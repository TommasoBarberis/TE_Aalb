{
 "cells": [
  {
   "cell_type": "markdown",
   "id": "bef8a407",
   "metadata": {},
   "source": [
    "# Test for extension and edge polishing of consensi"
   ]
  },
  {
   "cell_type": "code",
   "execution_count": 1,
   "id": "f5a747f2",
   "metadata": {},
   "outputs": [],
   "source": [
    "# import\n",
    "from jupyter_dash import JupyterDash\n",
    "import dash\n",
    "from dash import dcc\n",
    "from dash import html\n",
    "from dash.dependencies import Input, Output\n",
    "import glob, re, shutil, os\n",
    "from natsort import natsorted"
   ]
  },
  {
   "cell_type": "code",
   "execution_count": 3,
   "id": "c3fc76db",
   "metadata": {},
   "outputs": [],
   "source": [
    "workdir=\"/home/lerat/TE_Aalb/test/extension/\"\n",
    "notebookdir = os.getcwd()\n",
    "seq_dirs = natsorted(glob.glob(workdir + \"seq_*\"))\n",
    "seq_dirs = [i.split(\"/\")[-1] for i in seq_dirs]"
   ]
  },
  {
   "cell_type": "code",
   "execution_count": 4,
   "id": "abc99926",
   "metadata": {},
   "outputs": [],
   "source": [
    "# Tabs\n",
    "tabs = []\n",
    "c = 0\n",
    "for seq in seq_dirs:\n",
    "    val = \"tab-\" + str(c)\n",
    "    tabs.append(dcc.Tab(label=seq, value=val, className='tab'))\n",
    "    c += 1"
   ]
  },
  {
   "cell_type": "code",
   "execution_count": 5,
   "id": "e7dbd0ff",
   "metadata": {},
   "outputs": [],
   "source": [
    "app = JupyterDash(__name__)\n",
    "app.title = '“Test for extension and edge polishing of consensi”'\n",
    "server = app.server\n",
    "\n",
    "app.layout = html.Div([\n",
    "    dcc.Tabs(id='tabs',\n",
    "        value='tab-1',\n",
    "        vertical=True,\n",
    "        children=tabs,\n",
    "         persistence=True\n",
    "    ),\n",
    "    html.Div(id='tabs-content-example-graph')\n",
    "])\n",
    "\n",
    "@app.callback(Output('tabs-content-example-graph', 'children'),\n",
    "              Input('tabs', 'value'))\n",
    "def render_content(tab):\n",
    "    tab_id = str(tab).split('-')[-1]\n",
    "    prefix = workdir + \"seq_\" + tab_id + \"/\"\n",
    "    \n",
    "    title = \"SEQUENCE \" + tab_id\n",
    "    \n",
    "    with open(prefix + \"seq.fasta\", \"r\") as f:\n",
    "        seq = f.readlines()[1]\n",
    "    \n",
    "    copy_number = 0\n",
    "    with open(prefix + \"seq.fasta.blast.bed.fa\", \"r\") as f:\n",
    "        copy_number = len(f.readlines())/2\n",
    "        \n",
    "    origin_teaid = prefix + \"seq.fasta.c2g.pdf\"\n",
    "    shutil.copyfile(origin_teaid, notebookdir + \"/assets/img/seq.fasta_\" + tab_id + \".c2g.pdf\")\n",
    "    \n",
    "    with open(prefix + \"no_clean_consensus.fasta\", \"r\") as f:\n",
    "        seq_no_clean = f.readlines()[1]\n",
    "        \n",
    "    no_clean_svg = prefix + \"no_clean_output.svg\"\n",
    "    shutil.copyfile(no_clean_svg, notebookdir + \"/assets/img/no_clean_output_\" + tab_id + \".svg\")\n",
    "    \n",
    "    no_clean_teaid = prefix + \"no_clean_consensus.fasta.c2g.pdf\"\n",
    "    shutil.copyfile(no_clean_teaid, notebookdir + \"/assets/img/no_clean_consensus.fasta_\" + tab_id + \".c2g.pdf\")\n",
    "    \n",
    "    with open(prefix + \"no_ins_consensus.fasta\", \"r\") as f:\n",
    "        seq_no_ins = f.readlines()[1]\n",
    "        \n",
    "    no_ins_svg = prefix + \"no_ins_output.svg\"\n",
    "    shutil.copyfile(no_ins_svg, notebookdir + \"/assets/img/no_ins_output_\" + tab_id + \".svg\")\n",
    "    \n",
    "    no_ins_teaid = prefix + \"no_ins_consensus.fasta.c2g.pdf\"\n",
    "    shutil.copyfile(no_ins_teaid, notebookdir + \"/assets/img/no_ins_consensus.fasta_\" + tab_id + \".c2g.pdf\")\n",
    "    \n",
    "    return html.Div([\n",
    "        html.H1(title, id='tab_title'),\n",
    "        html.H3(\"Starting consensus\", className='old_cons'),\n",
    "        html.Div([\n",
    "            html.P(\"Sequence:\", className='info'),\n",
    "            html.P(seq, id='seq'),\n",
    "            html.P(\"Length:\", className='info'),\n",
    "            html.P(len(seq)),\n",
    "            html.P(\"Number of copies in the genome:\", className='info'),\n",
    "            html.P(copy_number),\n",
    "            html.P(\"TE-Aid results\", className='info'),\n",
    "            html.Iframe(src=\"/assets/img/seq.fasta_\" + tab_id + \".c2g.pdf\", className='pdf_viewer'),\n",
    "        ]),\n",
    "        html.H3(\"Alignement with flanking regions (1500pb)\", className='old_cons'),\n",
    "        html.Div([\n",
    "            html.P(\"Sequence:\", className='info'),\n",
    "            html.P(seq_no_clean, id='seq'),\n",
    "            html.P(\"Length:\", className='info'),\n",
    "            html.P(len(seq_no_clean)),\n",
    "            html.P(\"Alignement:\", className='info'),\n",
    "            html.Img(src='assets/img/no_clean_output_' + tab_id + '.svg', className='ali'),\n",
    "            html.P(\"TE-Aid results\", className='info'),\n",
    "            html.Iframe(src=\"/assets/img/no_clean_consensus.fasta_\" + tab_id + \".c2g.pdf\", className='pdf_viewer'),\n",
    "        ]),\n",
    "        html.H3(\"Alignement removing insertions\", className='old_cons'),\n",
    "        html.Div([\n",
    "            html.P(\"Sequence:\", className='info'),\n",
    "            html.P(seq_no_ins, id='seq'),\n",
    "            html.P(\"Length:\", className='info'),\n",
    "            html.P(len(seq_no_ins)),\n",
    "            html.P(\"Alignement:\", className='info'),\n",
    "            html.Img(src='assets/img/no_ins_output_' + tab_id + '.svg', className='ali'),\n",
    "            html.P(\"TE-Aid results\", className='info'),\n",
    "            html.Iframe(src=\"/assets/img/no_ins_consensus.fasta_\" + tab_id + \".c2g.pdf\", className='pdf_viewer'),\n",
    "        ]),\n",
    "    ])"
   ]
  },
  {
   "cell_type": "code",
   "execution_count": 6,
   "id": "5a8a3436",
   "metadata": {},
   "outputs": [
    {
     "name": "stdout",
     "output_type": "stream",
     "text": [
      "Dash app running on http://127.0.0.1:8050/\n"
     ]
    }
   ],
   "source": [
    "app.run_server()"
   ]
  }
 ],
 "metadata": {
  "kernelspec": {
   "display_name": "TE_Aalb",
   "language": "python",
   "name": "te_aalb"
  },
  "language_info": {
   "codemirror_mode": {
    "name": "ipython",
    "version": 3
   },
   "file_extension": ".py",
   "mimetype": "text/x-python",
   "name": "python",
   "nbconvert_exporter": "python",
   "pygments_lexer": "ipython3",
   "version": "3.10.2"
  }
 },
 "nbformat": 4,
 "nbformat_minor": 5
}
