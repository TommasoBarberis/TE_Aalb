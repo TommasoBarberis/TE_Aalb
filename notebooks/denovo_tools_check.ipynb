{
 "cells": [
  {
   "cell_type": "code",
   "execution_count": 7,
   "id": "71864147",
   "metadata": {},
   "outputs": [],
   "source": [
    "# library import\n",
    "from utils import *\n",
    "from plotly.subplots import make_subplots\n",
    "import plotly.graph_objects as go\n",
    "import plotly.express as px"
   ]
  },
  {
   "cell_type": "markdown",
   "id": "b9082560",
   "metadata": {},
   "source": [
    "## Length check"
   ]
  },
  {
   "cell_type": "code",
   "execution_count": 8,
   "id": "f5f397ee",
   "metadata": {},
   "outputs": [],
   "source": [
    "def cons_from_deepte_parser(cons_file):\n",
    "    df = pd.DataFrame(columns=[\"Seq name\", \"Annotation\", \"Length\"])\n",
    "    \n",
    "    c = 0\n",
    "    for seq_record in SeqIO.parse(cons_file, \"fasta\"):\n",
    "        \n",
    "        name = seq_record.name\n",
    "        order = name.split(\"__\")[1]\n",
    "        if \"_LTR\" in order:\n",
    "            order = \"LTR\"\n",
    "        elif \"_MITE\" in order:\n",
    "            order = \"MITE\"\n",
    "        elif \"_DNA\" in order:\n",
    "            order = \"DNA\"\n",
    "        elif \"_Helitron\" in order:\n",
    "            order = \"DNA\"\n",
    "        elif \"_SINE\" in order:\n",
    "            order = \"SINE\"\n",
    "        elif \"_LINE\" in order:\n",
    "            order = \"LINE\"\n",
    "        elif \"_nLTR\" in order:\n",
    "            order = \"non_LTR\"\n",
    "        else:\n",
    "            continue\n",
    "        \n",
    "        seq_len = len(seq_record.seq)\n",
    "        df2 = pd.DataFrame({'Seq name': [seq_record.name],'Annotation': [order], 'Length': [seq_len]})\n",
    "        df = pd.concat([df, df2], ignore_index = True, axis = 0)\n",
    "        c += 1\n",
    "    \n",
    "    return df"
   ]
  },
  {
   "cell_type": "code",
   "execution_count": 9,
   "id": "386ccd26",
   "metadata": {},
   "outputs": [
    {
     "ename": "FileNotFoundError",
     "evalue": "[Errno 2] No such file or directory: '../../DeepTE/RM2/results/opt_DeepTE.fasta'",
     "output_type": "error",
     "traceback": [
      "\u001b[0;31m---------------------------------------------------------------------------\u001b[0m",
      "\u001b[0;31mFileNotFoundError\u001b[0m                         Traceback (most recent call last)",
      "Input \u001b[0;32mIn [9]\u001b[0m, in \u001b[0;36m<cell line: 1>\u001b[0;34m()\u001b[0m\n\u001b[0;32m----> 1\u001b[0m RM2_data \u001b[38;5;241m=\u001b[39m \u001b[43mcons_from_deepte_parser\u001b[49m\u001b[43m(\u001b[49m\u001b[38;5;124;43m\"\u001b[39;49m\u001b[38;5;124;43m../../DeepTE/RM2/results/opt_DeepTE.fasta\u001b[39;49m\u001b[38;5;124;43m\"\u001b[39;49m\u001b[43m)\u001b[49m\n\u001b[1;32m      2\u001b[0m EDTA_data \u001b[38;5;241m=\u001b[39m cons_from_deepte_parser(\u001b[38;5;124m\"\u001b[39m\u001b[38;5;124m../../DeepTE/EDTA/results/opt_DeepTE.fasta\u001b[39m\u001b[38;5;124m\"\u001b[39m)\n\u001b[1;32m      3\u001b[0m MITE_data \u001b[38;5;241m=\u001b[39m cons_from_deepte_parser(\u001b[38;5;124m\"\u001b[39m\u001b[38;5;124m../../DeepTE/MITE/results/opt_DeepTE.fasta\u001b[39m\u001b[38;5;124m\"\u001b[39m)\n",
      "Input \u001b[0;32mIn [8]\u001b[0m, in \u001b[0;36mcons_from_deepte_parser\u001b[0;34m(cons_file)\u001b[0m\n\u001b[1;32m      2\u001b[0m df \u001b[38;5;241m=\u001b[39m pd\u001b[38;5;241m.\u001b[39mDataFrame(columns\u001b[38;5;241m=\u001b[39m[\u001b[38;5;124m\"\u001b[39m\u001b[38;5;124mSeq name\u001b[39m\u001b[38;5;124m\"\u001b[39m, \u001b[38;5;124m\"\u001b[39m\u001b[38;5;124mAnnotation\u001b[39m\u001b[38;5;124m\"\u001b[39m, \u001b[38;5;124m\"\u001b[39m\u001b[38;5;124mLength\u001b[39m\u001b[38;5;124m\"\u001b[39m])\n\u001b[1;32m      4\u001b[0m c \u001b[38;5;241m=\u001b[39m \u001b[38;5;241m0\u001b[39m\n\u001b[0;32m----> 5\u001b[0m \u001b[38;5;28;01mfor\u001b[39;00m seq_record \u001b[38;5;129;01min\u001b[39;00m \u001b[43mSeqIO\u001b[49m\u001b[38;5;241;43m.\u001b[39;49m\u001b[43mparse\u001b[49m\u001b[43m(\u001b[49m\u001b[43mcons_file\u001b[49m\u001b[43m,\u001b[49m\u001b[43m \u001b[49m\u001b[38;5;124;43m\"\u001b[39;49m\u001b[38;5;124;43mfasta\u001b[39;49m\u001b[38;5;124;43m\"\u001b[39;49m\u001b[43m)\u001b[49m:\n\u001b[1;32m      7\u001b[0m     name \u001b[38;5;241m=\u001b[39m seq_record\u001b[38;5;241m.\u001b[39mname\n\u001b[1;32m      8\u001b[0m     order \u001b[38;5;241m=\u001b[39m name\u001b[38;5;241m.\u001b[39msplit(\u001b[38;5;124m\"\u001b[39m\u001b[38;5;124m__\u001b[39m\u001b[38;5;124m\"\u001b[39m)[\u001b[38;5;241m1\u001b[39m]\n",
      "File \u001b[0;32m~/anaconda3/envs/TE_Aalb/lib/python3.9/site-packages/Bio/SeqIO/__init__.py:607\u001b[0m, in \u001b[0;36mparse\u001b[0;34m(handle, format, alphabet)\u001b[0m\n\u001b[1;32m    605\u001b[0m iterator_generator \u001b[38;5;241m=\u001b[39m _FormatToIterator\u001b[38;5;241m.\u001b[39mget(\u001b[38;5;28mformat\u001b[39m)\n\u001b[1;32m    606\u001b[0m \u001b[38;5;28;01mif\u001b[39;00m iterator_generator:\n\u001b[0;32m--> 607\u001b[0m     \u001b[38;5;28;01mreturn\u001b[39;00m \u001b[43miterator_generator\u001b[49m\u001b[43m(\u001b[49m\u001b[43mhandle\u001b[49m\u001b[43m)\u001b[49m\n\u001b[1;32m    608\u001b[0m \u001b[38;5;28;01mif\u001b[39;00m \u001b[38;5;28mformat\u001b[39m \u001b[38;5;129;01min\u001b[39;00m AlignIO\u001b[38;5;241m.\u001b[39m_FormatToIterator:\n\u001b[1;32m    609\u001b[0m     \u001b[38;5;66;03m# Use Bio.AlignIO to read in the alignments\u001b[39;00m\n\u001b[1;32m    610\u001b[0m     \u001b[38;5;28;01mreturn\u001b[39;00m (r \u001b[38;5;28;01mfor\u001b[39;00m alignment \u001b[38;5;129;01min\u001b[39;00m AlignIO\u001b[38;5;241m.\u001b[39mparse(handle, \u001b[38;5;28mformat\u001b[39m) \u001b[38;5;28;01mfor\u001b[39;00m r \u001b[38;5;129;01min\u001b[39;00m alignment)\n",
      "File \u001b[0;32m~/anaconda3/envs/TE_Aalb/lib/python3.9/site-packages/Bio/SeqIO/FastaIO.py:183\u001b[0m, in \u001b[0;36mFastaIterator.__init__\u001b[0;34m(self, source, alphabet, title2ids)\u001b[0m\n\u001b[1;32m    181\u001b[0m     \u001b[38;5;28;01mraise\u001b[39;00m \u001b[38;5;167;01mValueError\u001b[39;00m(\u001b[38;5;124m\"\u001b[39m\u001b[38;5;124mThe alphabet argument is no longer supported\u001b[39m\u001b[38;5;124m\"\u001b[39m)\n\u001b[1;32m    182\u001b[0m \u001b[38;5;28mself\u001b[39m\u001b[38;5;241m.\u001b[39mtitle2ids \u001b[38;5;241m=\u001b[39m title2ids\n\u001b[0;32m--> 183\u001b[0m \u001b[38;5;28;43msuper\u001b[39;49m\u001b[43m(\u001b[49m\u001b[43m)\u001b[49m\u001b[38;5;241;43m.\u001b[39;49m\u001b[38;5;21;43m__init__\u001b[39;49m\u001b[43m(\u001b[49m\u001b[43msource\u001b[49m\u001b[43m,\u001b[49m\u001b[43m \u001b[49m\u001b[43mmode\u001b[49m\u001b[38;5;241;43m=\u001b[39;49m\u001b[38;5;124;43m\"\u001b[39;49m\u001b[38;5;124;43mt\u001b[39;49m\u001b[38;5;124;43m\"\u001b[39;49m\u001b[43m,\u001b[49m\u001b[43m \u001b[49m\u001b[43mfmt\u001b[49m\u001b[38;5;241;43m=\u001b[39;49m\u001b[38;5;124;43m\"\u001b[39;49m\u001b[38;5;124;43mFasta\u001b[39;49m\u001b[38;5;124;43m\"\u001b[39;49m\u001b[43m)\u001b[49m\n",
      "File \u001b[0;32m~/anaconda3/envs/TE_Aalb/lib/python3.9/site-packages/Bio/SeqIO/Interfaces.py:47\u001b[0m, in \u001b[0;36mSequenceIterator.__init__\u001b[0;34m(self, source, alphabet, mode, fmt)\u001b[0m\n\u001b[1;32m     45\u001b[0m     \u001b[38;5;28;01mraise\u001b[39;00m \u001b[38;5;167;01mValueError\u001b[39;00m(\u001b[38;5;124m\"\u001b[39m\u001b[38;5;124mThe alphabet argument is no longer supported\u001b[39m\u001b[38;5;124m\"\u001b[39m)\n\u001b[1;32m     46\u001b[0m \u001b[38;5;28;01mtry\u001b[39;00m:\n\u001b[0;32m---> 47\u001b[0m     \u001b[38;5;28mself\u001b[39m\u001b[38;5;241m.\u001b[39mstream \u001b[38;5;241m=\u001b[39m \u001b[38;5;28;43mopen\u001b[39;49m\u001b[43m(\u001b[49m\u001b[43msource\u001b[49m\u001b[43m,\u001b[49m\u001b[43m \u001b[49m\u001b[38;5;124;43m\"\u001b[39;49m\u001b[38;5;124;43mr\u001b[39;49m\u001b[38;5;124;43m\"\u001b[39;49m\u001b[43m \u001b[49m\u001b[38;5;241;43m+\u001b[39;49m\u001b[43m \u001b[49m\u001b[43mmode\u001b[49m\u001b[43m)\u001b[49m\n\u001b[1;32m     48\u001b[0m     \u001b[38;5;28mself\u001b[39m\u001b[38;5;241m.\u001b[39mshould_close_stream \u001b[38;5;241m=\u001b[39m \u001b[38;5;28;01mTrue\u001b[39;00m\n\u001b[1;32m     49\u001b[0m \u001b[38;5;28;01mexcept\u001b[39;00m \u001b[38;5;167;01mTypeError\u001b[39;00m:  \u001b[38;5;66;03m# not a path, assume we received a stream\u001b[39;00m\n",
      "\u001b[0;31mFileNotFoundError\u001b[0m: [Errno 2] No such file or directory: '../../DeepTE/RM2/results/opt_DeepTE.fasta'"
     ]
    }
   ],
   "source": [
    "RM2_data = cons_from_deepte_parser(\"../../DeepTE/RM2/results/opt_DeepTE.fasta\")\n",
    "EDTA_data = cons_from_deepte_parser(\"../../DeepTE/EDTA/results/opt_DeepTE.fasta\")\n",
    "MITE_data = cons_from_deepte_parser(\"../../DeepTE/MITE/results/opt_DeepTE.fasta\")\n",
    "repbase_data = parse_repbase(\"../test/raw_lib/RepBase.fasta\")"
   ]
  },
  {
   "cell_type": "code",
   "execution_count": 10,
   "id": "a38ed372",
   "metadata": {},
   "outputs": [
    {
     "ename": "NameError",
     "evalue": "name 'RM2_data' is not defined",
     "output_type": "error",
     "traceback": [
      "\u001b[0;31m---------------------------------------------------------------------------\u001b[0m",
      "\u001b[0;31mNameError\u001b[0m                                 Traceback (most recent call last)",
      "Input \u001b[0;32mIn [10]\u001b[0m, in \u001b[0;36m<cell line: 1>\u001b[0;34m()\u001b[0m\n\u001b[0;32m----> 1\u001b[0m dict_data \u001b[38;5;241m=\u001b[39m {\u001b[38;5;124m\"\u001b[39m\u001b[38;5;124mRepeatModeler2\u001b[39m\u001b[38;5;124m\"\u001b[39m: (\u001b[43mRM2_data\u001b[49m,\u001b[38;5;124m\"\u001b[39m\u001b[38;5;124m#992339\u001b[39m\u001b[38;5;124m\"\u001b[39m), \u001b[38;5;124m\"\u001b[39m\u001b[38;5;124mEDTA\u001b[39m\u001b[38;5;124m\"\u001b[39m: (EDTA_data, \u001b[38;5;124m\"\u001b[39m\u001b[38;5;124m#15616d\u001b[39m\u001b[38;5;124m\"\u001b[39m), \u001b[38;5;124m\"\u001b[39m\u001b[38;5;124mMITE-Tracker\u001b[39m\u001b[38;5;124m\"\u001b[39m: (MITE_data, \u001b[38;5;124m\"\u001b[39m\u001b[38;5;124m#FF8811\u001b[39m\u001b[38;5;124m\"\u001b[39m), \u001b[38;5;124m\"\u001b[39m\u001b[38;5;124mRepBase\u001b[39m\u001b[38;5;124m\"\u001b[39m: (repbase_data, \u001b[38;5;124m\"\u001b[39m\u001b[38;5;124m#14BDEB\u001b[39m\u001b[38;5;124m\"\u001b[39m)}\n",
      "\u001b[0;31mNameError\u001b[0m: name 'RM2_data' is not defined"
     ]
    }
   ],
   "source": [
    "dict_data = {\"RepeatModeler2\": (RM2_data,\"#992339\"), \"EDTA\": (EDTA_data, \"#15616d\"), \"MITE-Tracker\": (MITE_data, \"#FF8811\"), \"RepBase\": (repbase_data, \"#14BDEB\")}"
   ]
  },
  {
   "cell_type": "code",
   "execution_count": 3,
   "id": "92b56983",
   "metadata": {},
   "outputs": [
    {
     "ename": "NameError",
     "evalue": "name 'make_subplots' is not defined",
     "output_type": "error",
     "traceback": [
      "\u001b[0;31m---------------------------------------------------------------------------\u001b[0m",
      "\u001b[0;31mNameError\u001b[0m                                 Traceback (most recent call last)",
      "Input \u001b[0;32mIn [3]\u001b[0m, in \u001b[0;36m<cell line: 3>\u001b[0;34m()\u001b[0m\n\u001b[1;32m      1\u001b[0m annot_lst \u001b[38;5;241m=\u001b[39m [(\u001b[38;5;124m\"\u001b[39m\u001b[38;5;124mLTR\u001b[39m\u001b[38;5;124m\"\u001b[39m), (\u001b[38;5;124m\"\u001b[39m\u001b[38;5;124mDNA\u001b[39m\u001b[38;5;124m\"\u001b[39m), (\u001b[38;5;124m\"\u001b[39m\u001b[38;5;124mLINE\u001b[39m\u001b[38;5;124m\"\u001b[39m), (\u001b[38;5;124m\"\u001b[39m\u001b[38;5;124mSINE\u001b[39m\u001b[38;5;124m\"\u001b[39m), (\u001b[38;5;124m\"\u001b[39m\u001b[38;5;124mnon_LTR\u001b[39m\u001b[38;5;124m\"\u001b[39m), (\u001b[38;5;124m\"\u001b[39m\u001b[38;5;124mMITE\u001b[39m\u001b[38;5;124m\"\u001b[39m)]\n\u001b[1;32m      2\u001b[0m tool_lst \u001b[38;5;241m=\u001b[39m [\u001b[38;5;124m\"\u001b[39m\u001b[38;5;124mRepeatModeler2\u001b[39m\u001b[38;5;124m\"\u001b[39m, \u001b[38;5;124m\"\u001b[39m\u001b[38;5;124mEDTA\u001b[39m\u001b[38;5;124m\"\u001b[39m, \u001b[38;5;124m\"\u001b[39m\u001b[38;5;124mMITE-Tracker\u001b[39m\u001b[38;5;124m\"\u001b[39m, \u001b[38;5;124m\"\u001b[39m\u001b[38;5;124mRepBase\u001b[39m\u001b[38;5;124m\"\u001b[39m]\n\u001b[0;32m----> 3\u001b[0m fig \u001b[38;5;241m=\u001b[39m \u001b[43mmake_subplots\u001b[49m(rows\u001b[38;5;241m=\u001b[39m\u001b[38;5;241m6\u001b[39m, cols\u001b[38;5;241m=\u001b[39m\u001b[38;5;241m1\u001b[39m, subplot_titles\u001b[38;5;241m=\u001b[39m\u001b[38;5;28mtuple\u001b[39m(annot_lst), vertical_spacing\u001b[38;5;241m=\u001b[39m\u001b[38;5;241m0.05\u001b[39m, x_title\u001b[38;5;241m=\u001b[39m\u001b[38;5;124m'\u001b[39m\u001b[38;5;124mLength\u001b[39m\u001b[38;5;124m'\u001b[39m, y_title\u001b[38;5;241m=\u001b[39m\u001b[38;5;124m'\u001b[39m\u001b[38;5;124mCount\u001b[39m\u001b[38;5;124m'\u001b[39m)\n\u001b[1;32m      4\u001b[0m annot_lst \u001b[38;5;241m=\u001b[39m [(\u001b[38;5;124m\"\u001b[39m\u001b[38;5;124mLTR\u001b[39m\u001b[38;5;124m\"\u001b[39m, \u001b[38;5;241m1400\u001b[39m), (\u001b[38;5;124m\"\u001b[39m\u001b[38;5;124mDNA\u001b[39m\u001b[38;5;124m\"\u001b[39m, \u001b[38;5;241m800\u001b[39m), (\u001b[38;5;124m\"\u001b[39m\u001b[38;5;124mLINE\u001b[39m\u001b[38;5;124m\"\u001b[39m, \u001b[38;5;241m1600\u001b[39m), (\u001b[38;5;124m\"\u001b[39m\u001b[38;5;124mSINE\u001b[39m\u001b[38;5;124m\"\u001b[39m, \u001b[38;5;241m160\u001b[39m), (\u001b[38;5;124m\"\u001b[39m\u001b[38;5;124mnon_LTR\u001b[39m\u001b[38;5;124m\"\u001b[39m, \u001b[38;5;241m1400\u001b[39m), (\u001b[38;5;124m\"\u001b[39m\u001b[38;5;124mMITE\u001b[39m\u001b[38;5;124m\"\u001b[39m, \u001b[38;5;241m160\u001b[39m)]\n\u001b[1;32m      6\u001b[0m i \u001b[38;5;241m=\u001b[39m \u001b[38;5;241m0\u001b[39m\n",
      "\u001b[0;31mNameError\u001b[0m: name 'make_subplots' is not defined"
     ]
    }
   ],
   "source": [
    "annot_lst = [(\"LTR\"), (\"DNA\"), (\"LINE\"), (\"SINE\"), (\"non_LTR\"), (\"MITE\")]\n",
    "tool_lst = [\"RepeatModeler2\", \"EDTA\", \"MITE-Tracker\", \"RepBase\"]\n",
    "fig = make_subplots(rows=6, cols=1, subplot_titles=tuple(annot_lst), vertical_spacing=0.05, x_title='Length', y_title='Count')\n",
    "annot_lst = [(\"LTR\", 1400), (\"DNA\", 800), (\"LINE\", 1600), (\"SINE\", 160), (\"non_LTR\", 1400), (\"MITE\", 160)]\n",
    "\n",
    "i = 0\n",
    "for c in range(1):\n",
    "    for r in range(6):\n",
    "        order = annot_lst[i][0]\n",
    "        print(order)\n",
    "        \n",
    "        for tool in tool_lst:\n",
    "            df = dict_data[tool][0]            \n",
    "            lengths = df[df[\"Annotation\"]==order][\"Length\"]\n",
    "            print(tool + \":\\t\" + str(len(lengths)))\n",
    "            \n",
    "            trace = go.Histogram(\n",
    "                x=df[df[\"Annotation\"]==order][\"Length\"],\n",
    "                marker_color=dict_data[tool][1],\n",
    "                name=tool,\n",
    "                histnorm='percent',\n",
    "                xbins=dict(\n",
    "                       size=annot_lst[i][1]\n",
    "                    )            \n",
    "                )\n",
    "            fig.append_trace(trace, row=r+1, col=c+1)            \n",
    "        i += 1    \n",
    "    \n",
    "    \n",
    "fig.layout['barmode'] = 'group'\n",
    "names = set()\n",
    "fig.for_each_trace(\n",
    "    lambda trace:\n",
    "        trace.update(showlegend=False)\n",
    "        if (trace.name in names) else names.add(trace.name))\n",
    "fig['layout']['xaxis'].update(range=[0,7000], tickvals = [700, 2100, 3500, 4900, 6300], ticktext=['0-1400', '1400-2800', '2800-4200', '4200-5600', '5600-7000'])\n",
    "fig['layout']['xaxis2'].update(range=[0,4000], tickvals = [400, 1200, 2000, 2800, 3600], ticktext=['0-800', '800-1600', '1600-2400', '2400-3200', '3200-4000'])\n",
    "fig['layout']['xaxis3'].update(range=[0,8000], tickvals = [800, 2400, 4000, 5600, 7200], ticktext=['0-1600', '1600-3200', '3200-4800', '4800-6400', '6400-8000'])\n",
    "fig['layout']['xaxis4'].update(range=[0,800], tickvals = [80, 240, 400, 560, 720], ticktext=['0-160', '160-320', '320-480', '480-640', '640-800'])\n",
    "fig['layout']['xaxis5'].update(range=[0,7000], tickvals = [700, 2100, 3500, 4900, 6300], ticktext=['0-1400', '1400-2800', '2800-4200', '4200-5600', '5600-7000'])\n",
    "fig['layout']['xaxis6'].update(range=[0,800], tickvals = [80, 240, 400, 560, 720], ticktext=['0-160', '160-320', '320-480', '480-640', '640-800'])\n",
    "\n",
    "fig.update_layout(\n",
    "    autosize=False,\n",
    "    width=900,\n",
    "    height=1200,\n",
    "    #title=\"distribution of the lengths of the elements by order\",\n",
    "    legend=dict(\n",
    "        orientation=\"h\",\n",
    "        yanchor=\"bottom\",\n",
    "        y=1.02,\n",
    "        xanchor=\"right\",\n",
    "        x=1\n",
    "    ),\n",
    "    paper_bgcolor='rgba(0,0,0,0)',\n",
    "    plot_bgcolor='rgba(0,0,0,0)',\n",
    ")\n",
    "fig.show()\n",
    "fig.write_image(\"/home/lerat/Téléchargements/length_dist.svg\")"
   ]
  },
  {
   "cell_type": "markdown",
   "id": "1423b5f5",
   "metadata": {},
   "source": [
    "## Redundancy check"
   ]
  },
  {
   "cell_type": "code",
   "execution_count": 56,
   "id": "9ba501e8",
   "metadata": {},
   "outputs": [],
   "source": [
    "# files\n",
    "RM2 = \"/home/tommaso/TE_Aalb/test/rendundancy_check/consensi_RM2.fasta.clstr\"\n",
    "MITE = \"/home/tommaso/TE_Aalb/test/rendundancy_check/consensi_MITE.fasta.clstr\"\n",
    "EDTA = \"/home/tommaso/TE_Aalb/test/rendundancy_check/consensi_EDTA.fasta.clstr\""
   ]
  },
  {
   "cell_type": "code",
   "execution_count": 50,
   "id": "900d8445",
   "metadata": {},
   "outputs": [],
   "source": [
    "def calc_redundancy(cdhit):\n",
    "    \"\"\"\n",
    "    Parse cd-hit-est output file having clusters. It returns a dict where the key is the cluster name and the \n",
    "    value the list of sequences ID in the cluster.\n",
    "    \"\"\"\n",
    "\n",
    "    dico = {} # key: representative seq, value: list of the sequences in the cluster\n",
    "    list_seq = [] # value for the dict\n",
    "\n",
    "    with open(cdhit, \"r\") as f:\n",
    "        lines = f.readlines()\n",
    "        for line in lines:\n",
    "            if line.startswith(\">\"): # begin of a new cluster\n",
    "                if len(list_seq) != 0:\n",
    "                    dico[k] = list_seq\n",
    "                    list_seq = []\n",
    "                k = line.replace(\"\\n\", \"\").replace(\">\", \"\")\n",
    "            else:\n",
    "                seq_line = line.split()\n",
    "                if seq_line[3] == \"*\":\n",
    "                    seq_id = seq_line[3]\n",
    "                else:\n",
    "                    seq_id = seq_line[4].split(\"/\")[-1]\n",
    "                list_seq.append([seq_line[1].replace(\"nt,\",\"\"), seq_line[2].replace(\"...\", \"\"), seq_id])\n",
    "    c = 0 # counter redundancy\n",
    "    for k in dico.keys():\n",
    "        for seq in dico[k]:\n",
    "            if seq[-1] == \"*\":\n",
    "                center_length = seq[0]\n",
    "        for seq in dico[k]:\n",
    "            if seq[-1] == \"100.00%\" and seq[0] == center_length:\n",
    "                c += 1\n",
    "    return c"
   ]
  },
  {
   "cell_type": "code",
   "execution_count": 57,
   "id": "abe1b259",
   "metadata": {},
   "outputs": [],
   "source": [
    "RM2_red = calc_redundancy(RM2)\n",
    "EDTA_red = calc_redundancy(EDTA)\n",
    "MITE_red = calc_redundancy(MITE)"
   ]
  },
  {
   "cell_type": "code",
   "execution_count": 60,
   "id": "cea2584c",
   "metadata": {},
   "outputs": [
    {
     "name": "stdout",
     "output_type": "stream",
     "text": [
      "\n",
      "RepeatModeler2: 6263\n",
      "EDTA: 0\n",
      "MITE-Tracker: 0\n",
      "\n"
     ]
    }
   ],
   "source": [
    "print(f\"\"\"\n",
    "RepeatModeler2: {RM2_red}\n",
    "EDTA: {EDTA_red}\n",
    "MITE-Tracker: {MITE_red}\n",
    "\"\"\")"
   ]
  }
 ],
 "metadata": {
  "kernelspec": {
   "display_name": "TE_Aalb",
   "language": "python",
   "name": "te_aalb"
  },
  "language_info": {
   "codemirror_mode": {
    "name": "ipython",
    "version": 3
   },
   "file_extension": ".py",
   "mimetype": "text/x-python",
   "name": "python",
   "nbconvert_exporter": "python",
   "pygments_lexer": "ipython3",
   "version": "3.9.12"
  }
 },
 "nbformat": 4,
 "nbformat_minor": 5
}
