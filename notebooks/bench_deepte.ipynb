{
 "cells": [
  {
   "cell_type": "code",
   "execution_count": 43,
   "id": "dae4f4cd",
   "metadata": {},
   "outputs": [],
   "source": [
    "# library import\n",
    "from Bio import SeqIO"
   ]
  },
  {
   "cell_type": "code",
   "execution_count": 44,
   "id": "eb256c6b",
   "metadata": {},
   "outputs": [],
   "source": [
    "dico = {}\n",
    "with open(\"../test/deepte/deepte_results/opt_DeepTE.txt\", \"r\") as f:\n",
    "    lines = f.readlines()\n",
    "    for line in lines:\n",
    "        fields = line.split()\n",
    "        dico[fields[0]] = fields[1]"
   ]
  },
  {
   "cell_type": "code",
   "execution_count": 45,
   "id": "3fa79b14",
   "metadata": {},
   "outputs": [],
   "source": [
    "lst = []\n",
    "for seq_record in SeqIO.parse(\"../test/deepte/RepBase.clean.fasta\", \"fasta\"):\n",
    "    if seq_record.id in dico.keys():\n",
    "        tmp_lst = [dico[seq_record.id]]\n",
    "        try:\n",
    "            classif = seq_record.description.split()[1]\n",
    "            tmp_lst.append(classif)\n",
    "        except:\n",
    "            pass\n",
    "        dico[seq_record.id] = tmp_lst"
   ]
  },
  {
   "cell_type": "code",
   "execution_count": 46,
   "id": "be3606d1",
   "metadata": {},
   "outputs": [
    {
     "data": {
      "text/plain": [
       "17365"
      ]
     },
     "execution_count": 46,
     "metadata": {},
     "output_type": "execute_result"
    }
   ],
   "source": [
    "len(dico)"
   ]
  },
  {
   "cell_type": "code",
   "execution_count": 47,
   "id": "6913981c",
   "metadata": {},
   "outputs": [
    {
     "name": "stdout",
     "output_type": "stream",
     "text": [
      "9356\n"
     ]
    }
   ],
   "source": [
    "c = 0\n",
    "for v in dico.values():\n",
    "    if len(v) == 2:\n",
    "        if v[1] in v[0]:\n",
    "            c += 1\n",
    "print(c)"
   ]
  }
 ],
 "metadata": {
  "kernelspec": {
   "display_name": "TE_Aalb",
   "language": "python",
   "name": "te_aalb"
  },
  "language_info": {
   "codemirror_mode": {
    "name": "ipython",
    "version": 3
   },
   "file_extension": ".py",
   "mimetype": "text/x-python",
   "name": "python",
   "nbconvert_exporter": "python",
   "pygments_lexer": "ipython3",
   "version": "3.10.2"
  }
 },
 "nbformat": 4,
 "nbformat_minor": 5
}
