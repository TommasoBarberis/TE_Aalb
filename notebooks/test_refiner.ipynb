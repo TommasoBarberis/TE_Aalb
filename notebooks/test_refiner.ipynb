{
 "cells": [
  {
   "cell_type": "markdown",
   "id": "dcd09e86",
   "metadata": {},
   "source": [
    "# Test Refiner\n",
    "\n",
    "Sample of 10 clusters. From each cluster a subsample of N sequences has been recovered, with N:\n",
    "\n",
    "- 100, 150, 200, 250, 300, 350, 400, 450, 500\n",
    "\n",
    "Then, an another subsample was done taking in account the length of sequences. A sequence is sampled if it has at least len% of the maximum length of the cluster (and so on with a maximum size of 500 sequences), with len%:\n",
    "\n",
    "- 20%, 40%, 60%, 80%, 100%"
   ]
  },
  {
   "cell_type": "code",
   "execution_count": 99,
   "id": "77652cef",
   "metadata": {},
   "outputs": [],
   "source": [
    "from glob import glob\n",
    "import pandas as pd\n",
    "import re\n",
    "from Bio import SeqIO\n",
    "import Levenshtein as lv\n",
    "import plotly.express as px"
   ]
  },
  {
   "cell_type": "code",
   "execution_count": 44,
   "id": "d93a02db",
   "metadata": {},
   "outputs": [],
   "source": [
    "work_dir = \"/home/lerat/TE_Aalb/test/cdhit\"\n",
    "sampled_clst_dir = sorted(list(glob(work_dir+\"/cluster_*\", recursive = True)))"
   ]
  },
  {
   "cell_type": "code",
   "execution_count": 122,
   "id": "0692d04b",
   "metadata": {},
   "outputs": [],
   "source": [
    "clst_type = [\"100\", \"150\", \"200\", \"250\", \"300\", \"350\", \"400\", \"450\", \"500\", \"20%\", \"40%\", \"60%\", \"80%\", \"100%\"]\n",
    "info = [\"nb_seq\", \"cons_length\", \"div\"]\n",
    "\n",
    "columns = [\"cluster\"]\n",
    "for t in clst_type:\n",
    "    for i in info:\n",
    "        columns.append(i + \"-\" + t)\n",
    "\n",
    "refiner = pd.DataFrame(columns=columns)"
   ]
  },
  {
   "cell_type": "code",
   "execution_count": 123,
   "id": "9b2a0ce7",
   "metadata": {},
   "outputs": [],
   "source": [
    "sizes = [100, 150, 200, 250, 300, 350, 400, 450, 500]\n",
    "lengths = [2, 4, 6, 8, 10]\n",
    "\n",
    "for clst in sampled_clst_dir:\n",
    "    row = []\n",
    "    \n",
    "    cluster_name = clst.split(\"/\")[-1]\n",
    "    row.append(cluster_name)\n",
    "    \n",
    "    cons_500 = clst + \"/cluster-500.clst.fasta.refiner_cons\"\n",
    "    for seq_record in SeqIO.parse(cons_500, \"fasta\"):\n",
    "        seq_500 = seq_record.seq\n",
    "    \n",
    "    for s in sizes:\n",
    "        sample_name = clst + \"/cluster-\" + str(s) + \".clst.fasta\"\n",
    "        \n",
    "        nb_seq = 0\n",
    "        with open(sample_name, \"r\") as f:\n",
    "            data = f.read()\n",
    "            nb_seq = len(re.findall(r'>', data))\n",
    "            row.append(nb_seq)\n",
    "        \n",
    "        cons_file = clst + \"/cluster-\" + str(s) + \".clst.fasta.refiner_cons\"\n",
    "        \n",
    "        for seq_record in SeqIO.parse(cons_file, \"fasta\"):\n",
    "            cons_len = len(seq_record.seq)\n",
    "            row.append(cons_len)\n",
    "            dist = 1 - lv.ratio(str(seq_500), str(seq_record.seq))\n",
    "            row.append(dist)\n",
    "    \n",
    "    for l in lengths:\n",
    "        sample_name = clst + \"/cluster-\" + str(l) + \".clst.fasta\"\n",
    "        \n",
    "        nb_seq = 0\n",
    "        with open(sample_name, \"r\") as f:\n",
    "            data = f.read()\n",
    "            nb_seq = len(re.findall(r'>', data))\n",
    "            row.append(nb_seq)\n",
    "        \n",
    "        cons_file = clst + \"/cluster-\" + str(l) + \".clst.fasta.refiner_cons\"\n",
    "        \n",
    "        for seq_record in SeqIO.parse(cons_file, \"fasta\"):\n",
    "            cons_len = len(seq_record.seq)\n",
    "            row.append(cons_len)\n",
    "            dist = 1 - lv.ratio(str(seq_500), str(seq_record.seq))\n",
    "            row.append(dist)\n",
    "\n",
    "    refiner.loc[-1] = row\n",
    "    refiner.index = refiner.index + 1\n",
    "    refiner = refiner.sort_index()\n",
    "    \n",
    "refiner = refiner.set_index('cluster')"
   ]
  },
  {
   "cell_type": "markdown",
   "id": "4607757b",
   "metadata": {},
   "source": [
    "## Dataset description\n",
    "\n",
    "Each row is a sampled cluster.\n",
    "Each cluster was sampled with 100, 150, 200, 250, 300, 350, 400, 450 and 500 sequences. For each sample we have compute the number of sequences (it can be less then expected if the cluster size is smaller than the sample size), the length of the generated consensus (using Refiner) and the distance of the consensus with the consensus generated using the sample a 500 sequences.\n",
    "Then each cluster was sampled by the sequences length, taking in account sequences having at least the 20%, 40%, 60%, 80% or the 100% of the longest sequence in the cluster, to reach 500 sampled sequences (when possible). As before, we have compute the number of sequences, the consensus length and the distance to the sample with 500 sequences."
   ]
  },
  {
   "cell_type": "code",
   "execution_count": 124,
   "id": "a5cb1cbd",
   "metadata": {},
   "outputs": [
    {
     "data": {
      "text/html": [
       "<div>\n",
       "<style scoped>\n",
       "    .dataframe tbody tr th:only-of-type {\n",
       "        vertical-align: middle;\n",
       "    }\n",
       "\n",
       "    .dataframe tbody tr th {\n",
       "        vertical-align: top;\n",
       "    }\n",
       "\n",
       "    .dataframe thead th {\n",
       "        text-align: right;\n",
       "    }\n",
       "</style>\n",
       "<table border=\"1\" class=\"dataframe\">\n",
       "  <thead>\n",
       "    <tr style=\"text-align: right;\">\n",
       "      <th></th>\n",
       "      <th>nb_seq-100</th>\n",
       "      <th>cons_length-100</th>\n",
       "      <th>div-100</th>\n",
       "      <th>nb_seq-150</th>\n",
       "      <th>cons_length-150</th>\n",
       "      <th>div-150</th>\n",
       "      <th>nb_seq-200</th>\n",
       "      <th>cons_length-200</th>\n",
       "      <th>div-200</th>\n",
       "      <th>nb_seq-250</th>\n",
       "      <th>...</th>\n",
       "      <th>div-40%</th>\n",
       "      <th>nb_seq-60%</th>\n",
       "      <th>cons_length-60%</th>\n",
       "      <th>div-60%</th>\n",
       "      <th>nb_seq-80%</th>\n",
       "      <th>cons_length-80%</th>\n",
       "      <th>div-80%</th>\n",
       "      <th>nb_seq-100%</th>\n",
       "      <th>cons_length-100%</th>\n",
       "      <th>div-100%</th>\n",
       "    </tr>\n",
       "    <tr>\n",
       "      <th>cluster</th>\n",
       "      <th></th>\n",
       "      <th></th>\n",
       "      <th></th>\n",
       "      <th></th>\n",
       "      <th></th>\n",
       "      <th></th>\n",
       "      <th></th>\n",
       "      <th></th>\n",
       "      <th></th>\n",
       "      <th></th>\n",
       "      <th></th>\n",
       "      <th></th>\n",
       "      <th></th>\n",
       "      <th></th>\n",
       "      <th></th>\n",
       "      <th></th>\n",
       "      <th></th>\n",
       "      <th></th>\n",
       "      <th></th>\n",
       "      <th></th>\n",
       "      <th></th>\n",
       "    </tr>\n",
       "  </thead>\n",
       "  <tbody>\n",
       "    <tr>\n",
       "      <th>cluster_9</th>\n",
       "      <td>100</td>\n",
       "      <td>446</td>\n",
       "      <td>0.126984</td>\n",
       "      <td>150</td>\n",
       "      <td>446</td>\n",
       "      <td>0.126984</td>\n",
       "      <td>200</td>\n",
       "      <td>446</td>\n",
       "      <td>0.130952</td>\n",
       "      <td>250</td>\n",
       "      <td>...</td>\n",
       "      <td>0.791651</td>\n",
       "      <td>2</td>\n",
       "      <td>4636</td>\n",
       "      <td>0.784148</td>\n",
       "      <td>2</td>\n",
       "      <td>4636</td>\n",
       "      <td>0.784148</td>\n",
       "      <td>1</td>\n",
       "      <td>4805</td>\n",
       "      <td>0.791690</td>\n",
       "    </tr>\n",
       "    <tr>\n",
       "      <th>cluster_8</th>\n",
       "      <td>100</td>\n",
       "      <td>202</td>\n",
       "      <td>0.212871</td>\n",
       "      <td>150</td>\n",
       "      <td>202</td>\n",
       "      <td>0.000000</td>\n",
       "      <td>200</td>\n",
       "      <td>202</td>\n",
       "      <td>0.000000</td>\n",
       "      <td>250</td>\n",
       "      <td>...</td>\n",
       "      <td>0.080569</td>\n",
       "      <td>1</td>\n",
       "      <td>543</td>\n",
       "      <td>0.476510</td>\n",
       "      <td>1</td>\n",
       "      <td>543</td>\n",
       "      <td>0.476510</td>\n",
       "      <td>1</td>\n",
       "      <td>543</td>\n",
       "      <td>0.476510</td>\n",
       "    </tr>\n",
       "    <tr>\n",
       "      <th>cluster_7</th>\n",
       "      <td>100</td>\n",
       "      <td>1403</td>\n",
       "      <td>0.076156</td>\n",
       "      <td>150</td>\n",
       "      <td>1493</td>\n",
       "      <td>0.056506</td>\n",
       "      <td>200</td>\n",
       "      <td>1492</td>\n",
       "      <td>0.057494</td>\n",
       "      <td>250</td>\n",
       "      <td>...</td>\n",
       "      <td>0.021529</td>\n",
       "      <td>1</td>\n",
       "      <td>3509</td>\n",
       "      <td>0.410131</td>\n",
       "      <td>1</td>\n",
       "      <td>3509</td>\n",
       "      <td>0.410131</td>\n",
       "      <td>1</td>\n",
       "      <td>3509</td>\n",
       "      <td>0.410131</td>\n",
       "    </tr>\n",
       "    <tr>\n",
       "      <th>cluster_6</th>\n",
       "      <td>100</td>\n",
       "      <td>900</td>\n",
       "      <td>0.001668</td>\n",
       "      <td>119</td>\n",
       "      <td>899</td>\n",
       "      <td>0.000000</td>\n",
       "      <td>119</td>\n",
       "      <td>899</td>\n",
       "      <td>0.000000</td>\n",
       "      <td>119</td>\n",
       "      <td>...</td>\n",
       "      <td>0.007795</td>\n",
       "      <td>37</td>\n",
       "      <td>897</td>\n",
       "      <td>0.007795</td>\n",
       "      <td>12</td>\n",
       "      <td>897</td>\n",
       "      <td>0.008909</td>\n",
       "      <td>1</td>\n",
       "      <td>899</td>\n",
       "      <td>0.414905</td>\n",
       "    </tr>\n",
       "    <tr>\n",
       "      <th>cluster_5</th>\n",
       "      <td>100</td>\n",
       "      <td>147</td>\n",
       "      <td>0.000000</td>\n",
       "      <td>150</td>\n",
       "      <td>147</td>\n",
       "      <td>0.000000</td>\n",
       "      <td>200</td>\n",
       "      <td>147</td>\n",
       "      <td>0.000000</td>\n",
       "      <td>250</td>\n",
       "      <td>...</td>\n",
       "      <td>0.944064</td>\n",
       "      <td>1</td>\n",
       "      <td>5109</td>\n",
       "      <td>0.944064</td>\n",
       "      <td>1</td>\n",
       "      <td>5109</td>\n",
       "      <td>0.944064</td>\n",
       "      <td>1</td>\n",
       "      <td>5109</td>\n",
       "      <td>0.944064</td>\n",
       "    </tr>\n",
       "    <tr>\n",
       "      <th>cluster_4</th>\n",
       "      <td>100</td>\n",
       "      <td>147</td>\n",
       "      <td>0.314149</td>\n",
       "      <td>150</td>\n",
       "      <td>147</td>\n",
       "      <td>0.314149</td>\n",
       "      <td>200</td>\n",
       "      <td>260</td>\n",
       "      <td>0.022642</td>\n",
       "      <td>250</td>\n",
       "      <td>...</td>\n",
       "      <td>0.473451</td>\n",
       "      <td>1</td>\n",
       "      <td>625</td>\n",
       "      <td>0.472626</td>\n",
       "      <td>1</td>\n",
       "      <td>625</td>\n",
       "      <td>0.472626</td>\n",
       "      <td>1</td>\n",
       "      <td>625</td>\n",
       "      <td>0.472626</td>\n",
       "    </tr>\n",
       "    <tr>\n",
       "      <th>cluster_3</th>\n",
       "      <td>100</td>\n",
       "      <td>1433</td>\n",
       "      <td>0.612737</td>\n",
       "      <td>150</td>\n",
       "      <td>1869</td>\n",
       "      <td>0.532497</td>\n",
       "      <td>200</td>\n",
       "      <td>1862</td>\n",
       "      <td>0.533615</td>\n",
       "      <td>250</td>\n",
       "      <td>...</td>\n",
       "      <td>0.060198</td>\n",
       "      <td>1</td>\n",
       "      <td>5947</td>\n",
       "      <td>0.066420</td>\n",
       "      <td>1</td>\n",
       "      <td>5947</td>\n",
       "      <td>0.066420</td>\n",
       "      <td>1</td>\n",
       "      <td>5947</td>\n",
       "      <td>0.066420</td>\n",
       "    </tr>\n",
       "    <tr>\n",
       "      <th>cluster_2</th>\n",
       "      <td>100</td>\n",
       "      <td>1562</td>\n",
       "      <td>0.001601</td>\n",
       "      <td>127</td>\n",
       "      <td>1561</td>\n",
       "      <td>0.000000</td>\n",
       "      <td>127</td>\n",
       "      <td>1561</td>\n",
       "      <td>0.000000</td>\n",
       "      <td>127</td>\n",
       "      <td>...</td>\n",
       "      <td>0.000000</td>\n",
       "      <td>16</td>\n",
       "      <td>1603</td>\n",
       "      <td>0.014539</td>\n",
       "      <td>5</td>\n",
       "      <td>1610</td>\n",
       "      <td>0.016083</td>\n",
       "      <td>1</td>\n",
       "      <td>1608</td>\n",
       "      <td>0.026191</td>\n",
       "    </tr>\n",
       "    <tr>\n",
       "      <th>cluster_1</th>\n",
       "      <td>100</td>\n",
       "      <td>1164</td>\n",
       "      <td>0.493554</td>\n",
       "      <td>126</td>\n",
       "      <td>3180</td>\n",
       "      <td>0.000000</td>\n",
       "      <td>126</td>\n",
       "      <td>3180</td>\n",
       "      <td>0.000000</td>\n",
       "      <td>126</td>\n",
       "      <td>...</td>\n",
       "      <td>0.021760</td>\n",
       "      <td>1</td>\n",
       "      <td>3162</td>\n",
       "      <td>0.021760</td>\n",
       "      <td>1</td>\n",
       "      <td>3162</td>\n",
       "      <td>0.021760</td>\n",
       "      <td>1</td>\n",
       "      <td>3162</td>\n",
       "      <td>0.021760</td>\n",
       "    </tr>\n",
       "    <tr>\n",
       "      <th>cluster_0</th>\n",
       "      <td>100</td>\n",
       "      <td>4102</td>\n",
       "      <td>0.393554</td>\n",
       "      <td>150</td>\n",
       "      <td>6571</td>\n",
       "      <td>0.004099</td>\n",
       "      <td>150</td>\n",
       "      <td>6571</td>\n",
       "      <td>0.004099</td>\n",
       "      <td>150</td>\n",
       "      <td>...</td>\n",
       "      <td>0.028089</td>\n",
       "      <td>3</td>\n",
       "      <td>6534</td>\n",
       "      <td>0.028089</td>\n",
       "      <td>1</td>\n",
       "      <td>6527</td>\n",
       "      <td>0.029855</td>\n",
       "      <td>1</td>\n",
       "      <td>6527</td>\n",
       "      <td>0.029855</td>\n",
       "    </tr>\n",
       "  </tbody>\n",
       "</table>\n",
       "<p>10 rows × 42 columns</p>\n",
       "</div>"
      ],
      "text/plain": [
       "           nb_seq-100  cons_length-100   div-100  nb_seq-150  cons_length-150  \\\n",
       "cluster                                                                         \n",
       "cluster_9         100              446  0.126984         150              446   \n",
       "cluster_8         100              202  0.212871         150              202   \n",
       "cluster_7         100             1403  0.076156         150             1493   \n",
       "cluster_6         100              900  0.001668         119              899   \n",
       "cluster_5         100              147  0.000000         150              147   \n",
       "cluster_4         100              147  0.314149         150              147   \n",
       "cluster_3         100             1433  0.612737         150             1869   \n",
       "cluster_2         100             1562  0.001601         127             1561   \n",
       "cluster_1         100             1164  0.493554         126             3180   \n",
       "cluster_0         100             4102  0.393554         150             6571   \n",
       "\n",
       "            div-150  nb_seq-200  cons_length-200   div-200  nb_seq-250  ...  \\\n",
       "cluster                                                                 ...   \n",
       "cluster_9  0.126984         200              446  0.130952         250  ...   \n",
       "cluster_8  0.000000         200              202  0.000000         250  ...   \n",
       "cluster_7  0.056506         200             1492  0.057494         250  ...   \n",
       "cluster_6  0.000000         119              899  0.000000         119  ...   \n",
       "cluster_5  0.000000         200              147  0.000000         250  ...   \n",
       "cluster_4  0.314149         200              260  0.022642         250  ...   \n",
       "cluster_3  0.532497         200             1862  0.533615         250  ...   \n",
       "cluster_2  0.000000         127             1561  0.000000         127  ...   \n",
       "cluster_1  0.000000         126             3180  0.000000         126  ...   \n",
       "cluster_0  0.004099         150             6571  0.004099         150  ...   \n",
       "\n",
       "            div-40%  nb_seq-60%  cons_length-60%   div-60%  nb_seq-80%  \\\n",
       "cluster                                                                  \n",
       "cluster_9  0.791651           2             4636  0.784148           2   \n",
       "cluster_8  0.080569           1              543  0.476510           1   \n",
       "cluster_7  0.021529           1             3509  0.410131           1   \n",
       "cluster_6  0.007795          37              897  0.007795          12   \n",
       "cluster_5  0.944064           1             5109  0.944064           1   \n",
       "cluster_4  0.473451           1              625  0.472626           1   \n",
       "cluster_3  0.060198           1             5947  0.066420           1   \n",
       "cluster_2  0.000000          16             1603  0.014539           5   \n",
       "cluster_1  0.021760           1             3162  0.021760           1   \n",
       "cluster_0  0.028089           3             6534  0.028089           1   \n",
       "\n",
       "           cons_length-80%   div-80%  nb_seq-100%  cons_length-100%  div-100%  \n",
       "cluster                                                                        \n",
       "cluster_9             4636  0.784148            1              4805  0.791690  \n",
       "cluster_8              543  0.476510            1               543  0.476510  \n",
       "cluster_7             3509  0.410131            1              3509  0.410131  \n",
       "cluster_6              897  0.008909            1               899  0.414905  \n",
       "cluster_5             5109  0.944064            1              5109  0.944064  \n",
       "cluster_4              625  0.472626            1               625  0.472626  \n",
       "cluster_3             5947  0.066420            1              5947  0.066420  \n",
       "cluster_2             1610  0.016083            1              1608  0.026191  \n",
       "cluster_1             3162  0.021760            1              3162  0.021760  \n",
       "cluster_0             6527  0.029855            1              6527  0.029855  \n",
       "\n",
       "[10 rows x 42 columns]"
      ]
     },
     "execution_count": 124,
     "metadata": {},
     "output_type": "execute_result"
    }
   ],
   "source": [
    "refiner"
   ]
  },
  {
   "cell_type": "markdown",
   "id": "ce2b7ce6",
   "metadata": {},
   "source": [
    "## The number of sampled sequences"
   ]
  },
  {
   "cell_type": "code",
   "execution_count": 125,
   "id": "ba484091",
   "metadata": {},
   "outputs": [],
   "source": [
    "sampled_seq = refiner[['nb_seq-100', 'nb_seq-150', 'nb_seq-200', 'nb_seq-250', 'nb_seq-300', 'nb_seq-350', \\\n",
    "                       'nb_seq-400', 'nb_seq-450', 'nb_seq-500', 'nb_seq-20%', 'nb_seq-40%', 'nb_seq-60%', \\\n",
    "                       'nb_seq-80%', 'nb_seq-100%']]"
   ]
  },
  {
   "cell_type": "code",
   "execution_count": 126,
   "id": "c501bb27",
   "metadata": {},
   "outputs": [
    {
     "data": {
      "text/html": [
       "<div>\n",
       "<style scoped>\n",
       "    .dataframe tbody tr th:only-of-type {\n",
       "        vertical-align: middle;\n",
       "    }\n",
       "\n",
       "    .dataframe tbody tr th {\n",
       "        vertical-align: top;\n",
       "    }\n",
       "\n",
       "    .dataframe thead th {\n",
       "        text-align: right;\n",
       "    }\n",
       "</style>\n",
       "<table border=\"1\" class=\"dataframe\">\n",
       "  <thead>\n",
       "    <tr style=\"text-align: right;\">\n",
       "      <th></th>\n",
       "      <th>nb_seq-100</th>\n",
       "      <th>nb_seq-150</th>\n",
       "      <th>nb_seq-200</th>\n",
       "      <th>nb_seq-250</th>\n",
       "      <th>nb_seq-300</th>\n",
       "      <th>nb_seq-350</th>\n",
       "      <th>nb_seq-400</th>\n",
       "      <th>nb_seq-450</th>\n",
       "      <th>nb_seq-500</th>\n",
       "      <th>nb_seq-20%</th>\n",
       "      <th>nb_seq-40%</th>\n",
       "      <th>nb_seq-60%</th>\n",
       "      <th>nb_seq-80%</th>\n",
       "      <th>nb_seq-100%</th>\n",
       "    </tr>\n",
       "    <tr>\n",
       "      <th>cluster</th>\n",
       "      <th></th>\n",
       "      <th></th>\n",
       "      <th></th>\n",
       "      <th></th>\n",
       "      <th></th>\n",
       "      <th></th>\n",
       "      <th></th>\n",
       "      <th></th>\n",
       "      <th></th>\n",
       "      <th></th>\n",
       "      <th></th>\n",
       "      <th></th>\n",
       "      <th></th>\n",
       "      <th></th>\n",
       "    </tr>\n",
       "  </thead>\n",
       "  <tbody>\n",
       "    <tr>\n",
       "      <th>cluster_9</th>\n",
       "      <td>100</td>\n",
       "      <td>150</td>\n",
       "      <td>200</td>\n",
       "      <td>250</td>\n",
       "      <td>300</td>\n",
       "      <td>350</td>\n",
       "      <td>400</td>\n",
       "      <td>450</td>\n",
       "      <td>500</td>\n",
       "      <td>4</td>\n",
       "      <td>4</td>\n",
       "      <td>2</td>\n",
       "      <td>2</td>\n",
       "      <td>1</td>\n",
       "    </tr>\n",
       "    <tr>\n",
       "      <th>cluster_8</th>\n",
       "      <td>100</td>\n",
       "      <td>150</td>\n",
       "      <td>200</td>\n",
       "      <td>250</td>\n",
       "      <td>256</td>\n",
       "      <td>256</td>\n",
       "      <td>256</td>\n",
       "      <td>256</td>\n",
       "      <td>256</td>\n",
       "      <td>236</td>\n",
       "      <td>3</td>\n",
       "      <td>1</td>\n",
       "      <td>1</td>\n",
       "      <td>1</td>\n",
       "    </tr>\n",
       "    <tr>\n",
       "      <th>cluster_7</th>\n",
       "      <td>100</td>\n",
       "      <td>150</td>\n",
       "      <td>200</td>\n",
       "      <td>250</td>\n",
       "      <td>300</td>\n",
       "      <td>350</td>\n",
       "      <td>400</td>\n",
       "      <td>450</td>\n",
       "      <td>500</td>\n",
       "      <td>593</td>\n",
       "      <td>6</td>\n",
       "      <td>1</td>\n",
       "      <td>1</td>\n",
       "      <td>1</td>\n",
       "    </tr>\n",
       "    <tr>\n",
       "      <th>cluster_6</th>\n",
       "      <td>100</td>\n",
       "      <td>119</td>\n",
       "      <td>119</td>\n",
       "      <td>119</td>\n",
       "      <td>119</td>\n",
       "      <td>119</td>\n",
       "      <td>119</td>\n",
       "      <td>119</td>\n",
       "      <td>119</td>\n",
       "      <td>45</td>\n",
       "      <td>40</td>\n",
       "      <td>37</td>\n",
       "      <td>12</td>\n",
       "      <td>1</td>\n",
       "    </tr>\n",
       "    <tr>\n",
       "      <th>cluster_5</th>\n",
       "      <td>100</td>\n",
       "      <td>150</td>\n",
       "      <td>200</td>\n",
       "      <td>250</td>\n",
       "      <td>300</td>\n",
       "      <td>350</td>\n",
       "      <td>400</td>\n",
       "      <td>450</td>\n",
       "      <td>500</td>\n",
       "      <td>1</td>\n",
       "      <td>1</td>\n",
       "      <td>1</td>\n",
       "      <td>1</td>\n",
       "      <td>1</td>\n",
       "    </tr>\n",
       "    <tr>\n",
       "      <th>cluster_4</th>\n",
       "      <td>100</td>\n",
       "      <td>150</td>\n",
       "      <td>200</td>\n",
       "      <td>250</td>\n",
       "      <td>300</td>\n",
       "      <td>350</td>\n",
       "      <td>372</td>\n",
       "      <td>372</td>\n",
       "      <td>372</td>\n",
       "      <td>128</td>\n",
       "      <td>38</td>\n",
       "      <td>1</td>\n",
       "      <td>1</td>\n",
       "      <td>1</td>\n",
       "    </tr>\n",
       "    <tr>\n",
       "      <th>cluster_3</th>\n",
       "      <td>100</td>\n",
       "      <td>150</td>\n",
       "      <td>200</td>\n",
       "      <td>250</td>\n",
       "      <td>300</td>\n",
       "      <td>350</td>\n",
       "      <td>400</td>\n",
       "      <td>450</td>\n",
       "      <td>451</td>\n",
       "      <td>9</td>\n",
       "      <td>4</td>\n",
       "      <td>1</td>\n",
       "      <td>1</td>\n",
       "      <td>1</td>\n",
       "    </tr>\n",
       "    <tr>\n",
       "      <th>cluster_2</th>\n",
       "      <td>100</td>\n",
       "      <td>127</td>\n",
       "      <td>127</td>\n",
       "      <td>127</td>\n",
       "      <td>127</td>\n",
       "      <td>127</td>\n",
       "      <td>127</td>\n",
       "      <td>127</td>\n",
       "      <td>127</td>\n",
       "      <td>123</td>\n",
       "      <td>109</td>\n",
       "      <td>16</td>\n",
       "      <td>5</td>\n",
       "      <td>1</td>\n",
       "    </tr>\n",
       "    <tr>\n",
       "      <th>cluster_1</th>\n",
       "      <td>100</td>\n",
       "      <td>126</td>\n",
       "      <td>126</td>\n",
       "      <td>126</td>\n",
       "      <td>126</td>\n",
       "      <td>126</td>\n",
       "      <td>126</td>\n",
       "      <td>126</td>\n",
       "      <td>126</td>\n",
       "      <td>15</td>\n",
       "      <td>1</td>\n",
       "      <td>1</td>\n",
       "      <td>1</td>\n",
       "      <td>1</td>\n",
       "    </tr>\n",
       "    <tr>\n",
       "      <th>cluster_0</th>\n",
       "      <td>100</td>\n",
       "      <td>150</td>\n",
       "      <td>150</td>\n",
       "      <td>150</td>\n",
       "      <td>150</td>\n",
       "      <td>150</td>\n",
       "      <td>150</td>\n",
       "      <td>150</td>\n",
       "      <td>150</td>\n",
       "      <td>37</td>\n",
       "      <td>3</td>\n",
       "      <td>3</td>\n",
       "      <td>1</td>\n",
       "      <td>1</td>\n",
       "    </tr>\n",
       "  </tbody>\n",
       "</table>\n",
       "</div>"
      ],
      "text/plain": [
       "           nb_seq-100  nb_seq-150  nb_seq-200  nb_seq-250  nb_seq-300  \\\n",
       "cluster                                                                 \n",
       "cluster_9         100         150         200         250         300   \n",
       "cluster_8         100         150         200         250         256   \n",
       "cluster_7         100         150         200         250         300   \n",
       "cluster_6         100         119         119         119         119   \n",
       "cluster_5         100         150         200         250         300   \n",
       "cluster_4         100         150         200         250         300   \n",
       "cluster_3         100         150         200         250         300   \n",
       "cluster_2         100         127         127         127         127   \n",
       "cluster_1         100         126         126         126         126   \n",
       "cluster_0         100         150         150         150         150   \n",
       "\n",
       "           nb_seq-350  nb_seq-400  nb_seq-450  nb_seq-500  nb_seq-20%  \\\n",
       "cluster                                                                 \n",
       "cluster_9         350         400         450         500           4   \n",
       "cluster_8         256         256         256         256         236   \n",
       "cluster_7         350         400         450         500         593   \n",
       "cluster_6         119         119         119         119          45   \n",
       "cluster_5         350         400         450         500           1   \n",
       "cluster_4         350         372         372         372         128   \n",
       "cluster_3         350         400         450         451           9   \n",
       "cluster_2         127         127         127         127         123   \n",
       "cluster_1         126         126         126         126          15   \n",
       "cluster_0         150         150         150         150          37   \n",
       "\n",
       "           nb_seq-40%  nb_seq-60%  nb_seq-80%  nb_seq-100%  \n",
       "cluster                                                     \n",
       "cluster_9           4           2           2            1  \n",
       "cluster_8           3           1           1            1  \n",
       "cluster_7           6           1           1            1  \n",
       "cluster_6          40          37          12            1  \n",
       "cluster_5           1           1           1            1  \n",
       "cluster_4          38           1           1            1  \n",
       "cluster_3           4           1           1            1  \n",
       "cluster_2         109          16           5            1  \n",
       "cluster_1           1           1           1            1  \n",
       "cluster_0           3           3           1            1  "
      ]
     },
     "execution_count": 126,
     "metadata": {},
     "output_type": "execute_result"
    }
   ],
   "source": [
    "sampled_seq"
   ]
  },
  {
   "cell_type": "markdown",
   "id": "b8d51136",
   "metadata": {},
   "source": [
    "## The consensus length"
   ]
  },
  {
   "cell_type": "code",
   "execution_count": 127,
   "id": "ce538583",
   "metadata": {},
   "outputs": [],
   "source": [
    "cons_length = refiner[['cons_length-100', 'cons_length-150', 'cons_length-200', 'cons_length-250', \\\n",
    "                       'cons_length-300', 'cons_length-350', 'cons_length-400', 'cons_length-450', \\\n",
    "                       'cons_length-500', 'cons_length-20%', 'cons_length-40%', 'cons_length-60%', \\\n",
    "                       'cons_length-80%', 'cons_length-100%']]\n",
    "cons_length = cons_length.T"
   ]
  },
  {
   "cell_type": "code",
   "execution_count": 128,
   "id": "2ecca440",
   "metadata": {},
   "outputs": [
    {
     "data": {
      "text/html": [
       "<div>\n",
       "<style scoped>\n",
       "    .dataframe tbody tr th:only-of-type {\n",
       "        vertical-align: middle;\n",
       "    }\n",
       "\n",
       "    .dataframe tbody tr th {\n",
       "        vertical-align: top;\n",
       "    }\n",
       "\n",
       "    .dataframe thead th {\n",
       "        text-align: right;\n",
       "    }\n",
       "</style>\n",
       "<table border=\"1\" class=\"dataframe\">\n",
       "  <thead>\n",
       "    <tr style=\"text-align: right;\">\n",
       "      <th>cluster</th>\n",
       "      <th>cluster_9</th>\n",
       "      <th>cluster_8</th>\n",
       "      <th>cluster_7</th>\n",
       "      <th>cluster_6</th>\n",
       "      <th>cluster_5</th>\n",
       "      <th>cluster_4</th>\n",
       "      <th>cluster_3</th>\n",
       "      <th>cluster_2</th>\n",
       "      <th>cluster_1</th>\n",
       "      <th>cluster_0</th>\n",
       "    </tr>\n",
       "  </thead>\n",
       "  <tbody>\n",
       "    <tr>\n",
       "      <th>cons_length-100</th>\n",
       "      <td>446</td>\n",
       "      <td>202</td>\n",
       "      <td>1403</td>\n",
       "      <td>900</td>\n",
       "      <td>147</td>\n",
       "      <td>147</td>\n",
       "      <td>1433</td>\n",
       "      <td>1562</td>\n",
       "      <td>1164</td>\n",
       "      <td>4102</td>\n",
       "    </tr>\n",
       "    <tr>\n",
       "      <th>cons_length-150</th>\n",
       "      <td>446</td>\n",
       "      <td>202</td>\n",
       "      <td>1493</td>\n",
       "      <td>899</td>\n",
       "      <td>147</td>\n",
       "      <td>147</td>\n",
       "      <td>1869</td>\n",
       "      <td>1561</td>\n",
       "      <td>3180</td>\n",
       "      <td>6571</td>\n",
       "    </tr>\n",
       "    <tr>\n",
       "      <th>cons_length-200</th>\n",
       "      <td>446</td>\n",
       "      <td>202</td>\n",
       "      <td>1492</td>\n",
       "      <td>899</td>\n",
       "      <td>147</td>\n",
       "      <td>260</td>\n",
       "      <td>1862</td>\n",
       "      <td>1561</td>\n",
       "      <td>3180</td>\n",
       "      <td>6571</td>\n",
       "    </tr>\n",
       "    <tr>\n",
       "      <th>cons_length-250</th>\n",
       "      <td>444</td>\n",
       "      <td>202</td>\n",
       "      <td>1495</td>\n",
       "      <td>899</td>\n",
       "      <td>147</td>\n",
       "      <td>270</td>\n",
       "      <td>2678</td>\n",
       "      <td>1561</td>\n",
       "      <td>3180</td>\n",
       "      <td>6571</td>\n",
       "    </tr>\n",
       "    <tr>\n",
       "      <th>cons_length-300</th>\n",
       "      <td>562</td>\n",
       "      <td>202</td>\n",
       "      <td>1494</td>\n",
       "      <td>899</td>\n",
       "      <td>147</td>\n",
       "      <td>270</td>\n",
       "      <td>2810</td>\n",
       "      <td>1561</td>\n",
       "      <td>3180</td>\n",
       "      <td>6570</td>\n",
       "    </tr>\n",
       "    <tr>\n",
       "      <th>cons_length-350</th>\n",
       "      <td>562</td>\n",
       "      <td>202</td>\n",
       "      <td>1343</td>\n",
       "      <td>899</td>\n",
       "      <td>147</td>\n",
       "      <td>270</td>\n",
       "      <td>2810</td>\n",
       "      <td>1561</td>\n",
       "      <td>3180</td>\n",
       "      <td>6604</td>\n",
       "    </tr>\n",
       "    <tr>\n",
       "      <th>cons_length-400</th>\n",
       "      <td>562</td>\n",
       "      <td>202</td>\n",
       "      <td>1343</td>\n",
       "      <td>899</td>\n",
       "      <td>147</td>\n",
       "      <td>270</td>\n",
       "      <td>2809</td>\n",
       "      <td>1561</td>\n",
       "      <td>3180</td>\n",
       "      <td>6572</td>\n",
       "    </tr>\n",
       "    <tr>\n",
       "      <th>cons_length-450</th>\n",
       "      <td>562</td>\n",
       "      <td>202</td>\n",
       "      <td>1343</td>\n",
       "      <td>899</td>\n",
       "      <td>147</td>\n",
       "      <td>270</td>\n",
       "      <td>3244</td>\n",
       "      <td>1561</td>\n",
       "      <td>3180</td>\n",
       "      <td>6571</td>\n",
       "    </tr>\n",
       "    <tr>\n",
       "      <th>cons_length-500</th>\n",
       "      <td>562</td>\n",
       "      <td>202</td>\n",
       "      <td>1604</td>\n",
       "      <td>899</td>\n",
       "      <td>147</td>\n",
       "      <td>270</td>\n",
       "      <td>5947</td>\n",
       "      <td>1561</td>\n",
       "      <td>3180</td>\n",
       "      <td>6603</td>\n",
       "    </tr>\n",
       "    <tr>\n",
       "      <th>cons_length-20%</th>\n",
       "      <td>4804</td>\n",
       "      <td>202</td>\n",
       "      <td>1601</td>\n",
       "      <td>897</td>\n",
       "      <td>5109</td>\n",
       "      <td>147</td>\n",
       "      <td>5948</td>\n",
       "      <td>1561</td>\n",
       "      <td>3169</td>\n",
       "      <td>6704</td>\n",
       "    </tr>\n",
       "    <tr>\n",
       "      <th>cons_length-40%</th>\n",
       "      <td>4804</td>\n",
       "      <td>220</td>\n",
       "      <td>1601</td>\n",
       "      <td>897</td>\n",
       "      <td>5109</td>\n",
       "      <td>634</td>\n",
       "      <td>5947</td>\n",
       "      <td>1561</td>\n",
       "      <td>3162</td>\n",
       "      <td>6534</td>\n",
       "    </tr>\n",
       "    <tr>\n",
       "      <th>cons_length-60%</th>\n",
       "      <td>4636</td>\n",
       "      <td>543</td>\n",
       "      <td>3509</td>\n",
       "      <td>897</td>\n",
       "      <td>5109</td>\n",
       "      <td>625</td>\n",
       "      <td>5947</td>\n",
       "      <td>1603</td>\n",
       "      <td>3162</td>\n",
       "      <td>6534</td>\n",
       "    </tr>\n",
       "    <tr>\n",
       "      <th>cons_length-80%</th>\n",
       "      <td>4636</td>\n",
       "      <td>543</td>\n",
       "      <td>3509</td>\n",
       "      <td>897</td>\n",
       "      <td>5109</td>\n",
       "      <td>625</td>\n",
       "      <td>5947</td>\n",
       "      <td>1610</td>\n",
       "      <td>3162</td>\n",
       "      <td>6527</td>\n",
       "    </tr>\n",
       "    <tr>\n",
       "      <th>cons_length-100%</th>\n",
       "      <td>4805</td>\n",
       "      <td>543</td>\n",
       "      <td>3509</td>\n",
       "      <td>899</td>\n",
       "      <td>5109</td>\n",
       "      <td>625</td>\n",
       "      <td>5947</td>\n",
       "      <td>1608</td>\n",
       "      <td>3162</td>\n",
       "      <td>6527</td>\n",
       "    </tr>\n",
       "  </tbody>\n",
       "</table>\n",
       "</div>"
      ],
      "text/plain": [
       "cluster           cluster_9  cluster_8  cluster_7  cluster_6  cluster_5  \\\n",
       "cons_length-100         446        202       1403        900        147   \n",
       "cons_length-150         446        202       1493        899        147   \n",
       "cons_length-200         446        202       1492        899        147   \n",
       "cons_length-250         444        202       1495        899        147   \n",
       "cons_length-300         562        202       1494        899        147   \n",
       "cons_length-350         562        202       1343        899        147   \n",
       "cons_length-400         562        202       1343        899        147   \n",
       "cons_length-450         562        202       1343        899        147   \n",
       "cons_length-500         562        202       1604        899        147   \n",
       "cons_length-20%        4804        202       1601        897       5109   \n",
       "cons_length-40%        4804        220       1601        897       5109   \n",
       "cons_length-60%        4636        543       3509        897       5109   \n",
       "cons_length-80%        4636        543       3509        897       5109   \n",
       "cons_length-100%       4805        543       3509        899       5109   \n",
       "\n",
       "cluster           cluster_4  cluster_3  cluster_2  cluster_1  cluster_0  \n",
       "cons_length-100         147       1433       1562       1164       4102  \n",
       "cons_length-150         147       1869       1561       3180       6571  \n",
       "cons_length-200         260       1862       1561       3180       6571  \n",
       "cons_length-250         270       2678       1561       3180       6571  \n",
       "cons_length-300         270       2810       1561       3180       6570  \n",
       "cons_length-350         270       2810       1561       3180       6604  \n",
       "cons_length-400         270       2809       1561       3180       6572  \n",
       "cons_length-450         270       3244       1561       3180       6571  \n",
       "cons_length-500         270       5947       1561       3180       6603  \n",
       "cons_length-20%         147       5948       1561       3169       6704  \n",
       "cons_length-40%         634       5947       1561       3162       6534  \n",
       "cons_length-60%         625       5947       1603       3162       6534  \n",
       "cons_length-80%         625       5947       1610       3162       6527  \n",
       "cons_length-100%        625       5947       1608       3162       6527  "
      ]
     },
     "execution_count": 128,
     "metadata": {},
     "output_type": "execute_result"
    }
   ],
   "source": [
    "cons_length"
   ]
  },
  {
   "cell_type": "code",
   "execution_count": 129,
   "id": "e6e66a6e",
   "metadata": {},
   "outputs": [
    {
     "data": {
      "application/vnd.plotly.v1+json": {
       "config": {
        "plotlyServerURL": "https://plot.ly"
       },
       "data": [
        {
         "hovertemplate": "cluster=cluster_9<br>index=%{x}<br>value=%{y}<extra></extra>",
         "legendgroup": "cluster_9",
         "line": {
          "color": "#636efa",
          "dash": "solid"
         },
         "marker": {
          "symbol": "circle"
         },
         "mode": "lines",
         "name": "cluster_9",
         "orientation": "v",
         "showlegend": true,
         "type": "scatter",
         "x": [
          "cons_length-100",
          "cons_length-150",
          "cons_length-200",
          "cons_length-250",
          "cons_length-300",
          "cons_length-350",
          "cons_length-400",
          "cons_length-450",
          "cons_length-500",
          "cons_length-20%",
          "cons_length-40%",
          "cons_length-60%",
          "cons_length-80%",
          "cons_length-100%"
         ],
         "xaxis": "x",
         "y": [
          446,
          446,
          446,
          444,
          562,
          562,
          562,
          562,
          562,
          4804,
          4804,
          4636,
          4636,
          4805
         ],
         "yaxis": "y"
        },
        {
         "hovertemplate": "cluster=cluster_8<br>index=%{x}<br>value=%{y}<extra></extra>",
         "legendgroup": "cluster_8",
         "line": {
          "color": "#EF553B",
          "dash": "solid"
         },
         "marker": {
          "symbol": "circle"
         },
         "mode": "lines",
         "name": "cluster_8",
         "orientation": "v",
         "showlegend": true,
         "type": "scatter",
         "x": [
          "cons_length-100",
          "cons_length-150",
          "cons_length-200",
          "cons_length-250",
          "cons_length-300",
          "cons_length-350",
          "cons_length-400",
          "cons_length-450",
          "cons_length-500",
          "cons_length-20%",
          "cons_length-40%",
          "cons_length-60%",
          "cons_length-80%",
          "cons_length-100%"
         ],
         "xaxis": "x",
         "y": [
          202,
          202,
          202,
          202,
          202,
          202,
          202,
          202,
          202,
          202,
          220,
          543,
          543,
          543
         ],
         "yaxis": "y"
        },
        {
         "hovertemplate": "cluster=cluster_7<br>index=%{x}<br>value=%{y}<extra></extra>",
         "legendgroup": "cluster_7",
         "line": {
          "color": "#00cc96",
          "dash": "solid"
         },
         "marker": {
          "symbol": "circle"
         },
         "mode": "lines",
         "name": "cluster_7",
         "orientation": "v",
         "showlegend": true,
         "type": "scatter",
         "x": [
          "cons_length-100",
          "cons_length-150",
          "cons_length-200",
          "cons_length-250",
          "cons_length-300",
          "cons_length-350",
          "cons_length-400",
          "cons_length-450",
          "cons_length-500",
          "cons_length-20%",
          "cons_length-40%",
          "cons_length-60%",
          "cons_length-80%",
          "cons_length-100%"
         ],
         "xaxis": "x",
         "y": [
          1403,
          1493,
          1492,
          1495,
          1494,
          1343,
          1343,
          1343,
          1604,
          1601,
          1601,
          3509,
          3509,
          3509
         ],
         "yaxis": "y"
        },
        {
         "hovertemplate": "cluster=cluster_6<br>index=%{x}<br>value=%{y}<extra></extra>",
         "legendgroup": "cluster_6",
         "line": {
          "color": "#ab63fa",
          "dash": "solid"
         },
         "marker": {
          "symbol": "circle"
         },
         "mode": "lines",
         "name": "cluster_6",
         "orientation": "v",
         "showlegend": true,
         "type": "scatter",
         "x": [
          "cons_length-100",
          "cons_length-150",
          "cons_length-200",
          "cons_length-250",
          "cons_length-300",
          "cons_length-350",
          "cons_length-400",
          "cons_length-450",
          "cons_length-500",
          "cons_length-20%",
          "cons_length-40%",
          "cons_length-60%",
          "cons_length-80%",
          "cons_length-100%"
         ],
         "xaxis": "x",
         "y": [
          900,
          899,
          899,
          899,
          899,
          899,
          899,
          899,
          899,
          897,
          897,
          897,
          897,
          899
         ],
         "yaxis": "y"
        },
        {
         "hovertemplate": "cluster=cluster_5<br>index=%{x}<br>value=%{y}<extra></extra>",
         "legendgroup": "cluster_5",
         "line": {
          "color": "#FFA15A",
          "dash": "solid"
         },
         "marker": {
          "symbol": "circle"
         },
         "mode": "lines",
         "name": "cluster_5",
         "orientation": "v",
         "showlegend": true,
         "type": "scatter",
         "x": [
          "cons_length-100",
          "cons_length-150",
          "cons_length-200",
          "cons_length-250",
          "cons_length-300",
          "cons_length-350",
          "cons_length-400",
          "cons_length-450",
          "cons_length-500",
          "cons_length-20%",
          "cons_length-40%",
          "cons_length-60%",
          "cons_length-80%",
          "cons_length-100%"
         ],
         "xaxis": "x",
         "y": [
          147,
          147,
          147,
          147,
          147,
          147,
          147,
          147,
          147,
          5109,
          5109,
          5109,
          5109,
          5109
         ],
         "yaxis": "y"
        },
        {
         "hovertemplate": "cluster=cluster_4<br>index=%{x}<br>value=%{y}<extra></extra>",
         "legendgroup": "cluster_4",
         "line": {
          "color": "#19d3f3",
          "dash": "solid"
         },
         "marker": {
          "symbol": "circle"
         },
         "mode": "lines",
         "name": "cluster_4",
         "orientation": "v",
         "showlegend": true,
         "type": "scatter",
         "x": [
          "cons_length-100",
          "cons_length-150",
          "cons_length-200",
          "cons_length-250",
          "cons_length-300",
          "cons_length-350",
          "cons_length-400",
          "cons_length-450",
          "cons_length-500",
          "cons_length-20%",
          "cons_length-40%",
          "cons_length-60%",
          "cons_length-80%",
          "cons_length-100%"
         ],
         "xaxis": "x",
         "y": [
          147,
          147,
          260,
          270,
          270,
          270,
          270,
          270,
          270,
          147,
          634,
          625,
          625,
          625
         ],
         "yaxis": "y"
        },
        {
         "hovertemplate": "cluster=cluster_3<br>index=%{x}<br>value=%{y}<extra></extra>",
         "legendgroup": "cluster_3",
         "line": {
          "color": "#FF6692",
          "dash": "solid"
         },
         "marker": {
          "symbol": "circle"
         },
         "mode": "lines",
         "name": "cluster_3",
         "orientation": "v",
         "showlegend": true,
         "type": "scatter",
         "x": [
          "cons_length-100",
          "cons_length-150",
          "cons_length-200",
          "cons_length-250",
          "cons_length-300",
          "cons_length-350",
          "cons_length-400",
          "cons_length-450",
          "cons_length-500",
          "cons_length-20%",
          "cons_length-40%",
          "cons_length-60%",
          "cons_length-80%",
          "cons_length-100%"
         ],
         "xaxis": "x",
         "y": [
          1433,
          1869,
          1862,
          2678,
          2810,
          2810,
          2809,
          3244,
          5947,
          5948,
          5947,
          5947,
          5947,
          5947
         ],
         "yaxis": "y"
        },
        {
         "hovertemplate": "cluster=cluster_2<br>index=%{x}<br>value=%{y}<extra></extra>",
         "legendgroup": "cluster_2",
         "line": {
          "color": "#B6E880",
          "dash": "solid"
         },
         "marker": {
          "symbol": "circle"
         },
         "mode": "lines",
         "name": "cluster_2",
         "orientation": "v",
         "showlegend": true,
         "type": "scatter",
         "x": [
          "cons_length-100",
          "cons_length-150",
          "cons_length-200",
          "cons_length-250",
          "cons_length-300",
          "cons_length-350",
          "cons_length-400",
          "cons_length-450",
          "cons_length-500",
          "cons_length-20%",
          "cons_length-40%",
          "cons_length-60%",
          "cons_length-80%",
          "cons_length-100%"
         ],
         "xaxis": "x",
         "y": [
          1562,
          1561,
          1561,
          1561,
          1561,
          1561,
          1561,
          1561,
          1561,
          1561,
          1561,
          1603,
          1610,
          1608
         ],
         "yaxis": "y"
        },
        {
         "hovertemplate": "cluster=cluster_1<br>index=%{x}<br>value=%{y}<extra></extra>",
         "legendgroup": "cluster_1",
         "line": {
          "color": "#FF97FF",
          "dash": "solid"
         },
         "marker": {
          "symbol": "circle"
         },
         "mode": "lines",
         "name": "cluster_1",
         "orientation": "v",
         "showlegend": true,
         "type": "scatter",
         "x": [
          "cons_length-100",
          "cons_length-150",
          "cons_length-200",
          "cons_length-250",
          "cons_length-300",
          "cons_length-350",
          "cons_length-400",
          "cons_length-450",
          "cons_length-500",
          "cons_length-20%",
          "cons_length-40%",
          "cons_length-60%",
          "cons_length-80%",
          "cons_length-100%"
         ],
         "xaxis": "x",
         "y": [
          1164,
          3180,
          3180,
          3180,
          3180,
          3180,
          3180,
          3180,
          3180,
          3169,
          3162,
          3162,
          3162,
          3162
         ],
         "yaxis": "y"
        },
        {
         "hovertemplate": "cluster=cluster_0<br>index=%{x}<br>value=%{y}<extra></extra>",
         "legendgroup": "cluster_0",
         "line": {
          "color": "#FECB52",
          "dash": "solid"
         },
         "marker": {
          "symbol": "circle"
         },
         "mode": "lines",
         "name": "cluster_0",
         "orientation": "v",
         "showlegend": true,
         "type": "scatter",
         "x": [
          "cons_length-100",
          "cons_length-150",
          "cons_length-200",
          "cons_length-250",
          "cons_length-300",
          "cons_length-350",
          "cons_length-400",
          "cons_length-450",
          "cons_length-500",
          "cons_length-20%",
          "cons_length-40%",
          "cons_length-60%",
          "cons_length-80%",
          "cons_length-100%"
         ],
         "xaxis": "x",
         "y": [
          4102,
          6571,
          6571,
          6571,
          6570,
          6604,
          6572,
          6571,
          6603,
          6704,
          6534,
          6534,
          6527,
          6527
         ],
         "yaxis": "y"
        }
       ],
       "layout": {
        "legend": {
         "title": {
          "text": "cluster"
         },
         "tracegroupgap": 0
        },
        "margin": {
         "t": 60
        },
        "template": {
         "data": {
          "bar": [
           {
            "error_x": {
             "color": "#2a3f5f"
            },
            "error_y": {
             "color": "#2a3f5f"
            },
            "marker": {
             "line": {
              "color": "#E5ECF6",
              "width": 0.5
             },
             "pattern": {
              "fillmode": "overlay",
              "size": 10,
              "solidity": 0.2
             }
            },
            "type": "bar"
           }
          ],
          "barpolar": [
           {
            "marker": {
             "line": {
              "color": "#E5ECF6",
              "width": 0.5
             },
             "pattern": {
              "fillmode": "overlay",
              "size": 10,
              "solidity": 0.2
             }
            },
            "type": "barpolar"
           }
          ],
          "carpet": [
           {
            "aaxis": {
             "endlinecolor": "#2a3f5f",
             "gridcolor": "white",
             "linecolor": "white",
             "minorgridcolor": "white",
             "startlinecolor": "#2a3f5f"
            },
            "baxis": {
             "endlinecolor": "#2a3f5f",
             "gridcolor": "white",
             "linecolor": "white",
             "minorgridcolor": "white",
             "startlinecolor": "#2a3f5f"
            },
            "type": "carpet"
           }
          ],
          "choropleth": [
           {
            "colorbar": {
             "outlinewidth": 0,
             "ticks": ""
            },
            "type": "choropleth"
           }
          ],
          "contour": [
           {
            "colorbar": {
             "outlinewidth": 0,
             "ticks": ""
            },
            "colorscale": [
             [
              0,
              "#0d0887"
             ],
             [
              0.1111111111111111,
              "#46039f"
             ],
             [
              0.2222222222222222,
              "#7201a8"
             ],
             [
              0.3333333333333333,
              "#9c179e"
             ],
             [
              0.4444444444444444,
              "#bd3786"
             ],
             [
              0.5555555555555556,
              "#d8576b"
             ],
             [
              0.6666666666666666,
              "#ed7953"
             ],
             [
              0.7777777777777778,
              "#fb9f3a"
             ],
             [
              0.8888888888888888,
              "#fdca26"
             ],
             [
              1,
              "#f0f921"
             ]
            ],
            "type": "contour"
           }
          ],
          "contourcarpet": [
           {
            "colorbar": {
             "outlinewidth": 0,
             "ticks": ""
            },
            "type": "contourcarpet"
           }
          ],
          "heatmap": [
           {
            "colorbar": {
             "outlinewidth": 0,
             "ticks": ""
            },
            "colorscale": [
             [
              0,
              "#0d0887"
             ],
             [
              0.1111111111111111,
              "#46039f"
             ],
             [
              0.2222222222222222,
              "#7201a8"
             ],
             [
              0.3333333333333333,
              "#9c179e"
             ],
             [
              0.4444444444444444,
              "#bd3786"
             ],
             [
              0.5555555555555556,
              "#d8576b"
             ],
             [
              0.6666666666666666,
              "#ed7953"
             ],
             [
              0.7777777777777778,
              "#fb9f3a"
             ],
             [
              0.8888888888888888,
              "#fdca26"
             ],
             [
              1,
              "#f0f921"
             ]
            ],
            "type": "heatmap"
           }
          ],
          "heatmapgl": [
           {
            "colorbar": {
             "outlinewidth": 0,
             "ticks": ""
            },
            "colorscale": [
             [
              0,
              "#0d0887"
             ],
             [
              0.1111111111111111,
              "#46039f"
             ],
             [
              0.2222222222222222,
              "#7201a8"
             ],
             [
              0.3333333333333333,
              "#9c179e"
             ],
             [
              0.4444444444444444,
              "#bd3786"
             ],
             [
              0.5555555555555556,
              "#d8576b"
             ],
             [
              0.6666666666666666,
              "#ed7953"
             ],
             [
              0.7777777777777778,
              "#fb9f3a"
             ],
             [
              0.8888888888888888,
              "#fdca26"
             ],
             [
              1,
              "#f0f921"
             ]
            ],
            "type": "heatmapgl"
           }
          ],
          "histogram": [
           {
            "marker": {
             "pattern": {
              "fillmode": "overlay",
              "size": 10,
              "solidity": 0.2
             }
            },
            "type": "histogram"
           }
          ],
          "histogram2d": [
           {
            "colorbar": {
             "outlinewidth": 0,
             "ticks": ""
            },
            "colorscale": [
             [
              0,
              "#0d0887"
             ],
             [
              0.1111111111111111,
              "#46039f"
             ],
             [
              0.2222222222222222,
              "#7201a8"
             ],
             [
              0.3333333333333333,
              "#9c179e"
             ],
             [
              0.4444444444444444,
              "#bd3786"
             ],
             [
              0.5555555555555556,
              "#d8576b"
             ],
             [
              0.6666666666666666,
              "#ed7953"
             ],
             [
              0.7777777777777778,
              "#fb9f3a"
             ],
             [
              0.8888888888888888,
              "#fdca26"
             ],
             [
              1,
              "#f0f921"
             ]
            ],
            "type": "histogram2d"
           }
          ],
          "histogram2dcontour": [
           {
            "colorbar": {
             "outlinewidth": 0,
             "ticks": ""
            },
            "colorscale": [
             [
              0,
              "#0d0887"
             ],
             [
              0.1111111111111111,
              "#46039f"
             ],
             [
              0.2222222222222222,
              "#7201a8"
             ],
             [
              0.3333333333333333,
              "#9c179e"
             ],
             [
              0.4444444444444444,
              "#bd3786"
             ],
             [
              0.5555555555555556,
              "#d8576b"
             ],
             [
              0.6666666666666666,
              "#ed7953"
             ],
             [
              0.7777777777777778,
              "#fb9f3a"
             ],
             [
              0.8888888888888888,
              "#fdca26"
             ],
             [
              1,
              "#f0f921"
             ]
            ],
            "type": "histogram2dcontour"
           }
          ],
          "mesh3d": [
           {
            "colorbar": {
             "outlinewidth": 0,
             "ticks": ""
            },
            "type": "mesh3d"
           }
          ],
          "parcoords": [
           {
            "line": {
             "colorbar": {
              "outlinewidth": 0,
              "ticks": ""
             }
            },
            "type": "parcoords"
           }
          ],
          "pie": [
           {
            "automargin": true,
            "type": "pie"
           }
          ],
          "scatter": [
           {
            "marker": {
             "colorbar": {
              "outlinewidth": 0,
              "ticks": ""
             }
            },
            "type": "scatter"
           }
          ],
          "scatter3d": [
           {
            "line": {
             "colorbar": {
              "outlinewidth": 0,
              "ticks": ""
             }
            },
            "marker": {
             "colorbar": {
              "outlinewidth": 0,
              "ticks": ""
             }
            },
            "type": "scatter3d"
           }
          ],
          "scattercarpet": [
           {
            "marker": {
             "colorbar": {
              "outlinewidth": 0,
              "ticks": ""
             }
            },
            "type": "scattercarpet"
           }
          ],
          "scattergeo": [
           {
            "marker": {
             "colorbar": {
              "outlinewidth": 0,
              "ticks": ""
             }
            },
            "type": "scattergeo"
           }
          ],
          "scattergl": [
           {
            "marker": {
             "colorbar": {
              "outlinewidth": 0,
              "ticks": ""
             }
            },
            "type": "scattergl"
           }
          ],
          "scattermapbox": [
           {
            "marker": {
             "colorbar": {
              "outlinewidth": 0,
              "ticks": ""
             }
            },
            "type": "scattermapbox"
           }
          ],
          "scatterpolar": [
           {
            "marker": {
             "colorbar": {
              "outlinewidth": 0,
              "ticks": ""
             }
            },
            "type": "scatterpolar"
           }
          ],
          "scatterpolargl": [
           {
            "marker": {
             "colorbar": {
              "outlinewidth": 0,
              "ticks": ""
             }
            },
            "type": "scatterpolargl"
           }
          ],
          "scatterternary": [
           {
            "marker": {
             "colorbar": {
              "outlinewidth": 0,
              "ticks": ""
             }
            },
            "type": "scatterternary"
           }
          ],
          "surface": [
           {
            "colorbar": {
             "outlinewidth": 0,
             "ticks": ""
            },
            "colorscale": [
             [
              0,
              "#0d0887"
             ],
             [
              0.1111111111111111,
              "#46039f"
             ],
             [
              0.2222222222222222,
              "#7201a8"
             ],
             [
              0.3333333333333333,
              "#9c179e"
             ],
             [
              0.4444444444444444,
              "#bd3786"
             ],
             [
              0.5555555555555556,
              "#d8576b"
             ],
             [
              0.6666666666666666,
              "#ed7953"
             ],
             [
              0.7777777777777778,
              "#fb9f3a"
             ],
             [
              0.8888888888888888,
              "#fdca26"
             ],
             [
              1,
              "#f0f921"
             ]
            ],
            "type": "surface"
           }
          ],
          "table": [
           {
            "cells": {
             "fill": {
              "color": "#EBF0F8"
             },
             "line": {
              "color": "white"
             }
            },
            "header": {
             "fill": {
              "color": "#C8D4E3"
             },
             "line": {
              "color": "white"
             }
            },
            "type": "table"
           }
          ]
         },
         "layout": {
          "annotationdefaults": {
           "arrowcolor": "#2a3f5f",
           "arrowhead": 0,
           "arrowwidth": 1
          },
          "autotypenumbers": "strict",
          "coloraxis": {
           "colorbar": {
            "outlinewidth": 0,
            "ticks": ""
           }
          },
          "colorscale": {
           "diverging": [
            [
             0,
             "#8e0152"
            ],
            [
             0.1,
             "#c51b7d"
            ],
            [
             0.2,
             "#de77ae"
            ],
            [
             0.3,
             "#f1b6da"
            ],
            [
             0.4,
             "#fde0ef"
            ],
            [
             0.5,
             "#f7f7f7"
            ],
            [
             0.6,
             "#e6f5d0"
            ],
            [
             0.7,
             "#b8e186"
            ],
            [
             0.8,
             "#7fbc41"
            ],
            [
             0.9,
             "#4d9221"
            ],
            [
             1,
             "#276419"
            ]
           ],
           "sequential": [
            [
             0,
             "#0d0887"
            ],
            [
             0.1111111111111111,
             "#46039f"
            ],
            [
             0.2222222222222222,
             "#7201a8"
            ],
            [
             0.3333333333333333,
             "#9c179e"
            ],
            [
             0.4444444444444444,
             "#bd3786"
            ],
            [
             0.5555555555555556,
             "#d8576b"
            ],
            [
             0.6666666666666666,
             "#ed7953"
            ],
            [
             0.7777777777777778,
             "#fb9f3a"
            ],
            [
             0.8888888888888888,
             "#fdca26"
            ],
            [
             1,
             "#f0f921"
            ]
           ],
           "sequentialminus": [
            [
             0,
             "#0d0887"
            ],
            [
             0.1111111111111111,
             "#46039f"
            ],
            [
             0.2222222222222222,
             "#7201a8"
            ],
            [
             0.3333333333333333,
             "#9c179e"
            ],
            [
             0.4444444444444444,
             "#bd3786"
            ],
            [
             0.5555555555555556,
             "#d8576b"
            ],
            [
             0.6666666666666666,
             "#ed7953"
            ],
            [
             0.7777777777777778,
             "#fb9f3a"
            ],
            [
             0.8888888888888888,
             "#fdca26"
            ],
            [
             1,
             "#f0f921"
            ]
           ]
          },
          "colorway": [
           "#636efa",
           "#EF553B",
           "#00cc96",
           "#ab63fa",
           "#FFA15A",
           "#19d3f3",
           "#FF6692",
           "#B6E880",
           "#FF97FF",
           "#FECB52"
          ],
          "font": {
           "color": "#2a3f5f"
          },
          "geo": {
           "bgcolor": "white",
           "lakecolor": "white",
           "landcolor": "#E5ECF6",
           "showlakes": true,
           "showland": true,
           "subunitcolor": "white"
          },
          "hoverlabel": {
           "align": "left"
          },
          "hovermode": "closest",
          "mapbox": {
           "style": "light"
          },
          "paper_bgcolor": "white",
          "plot_bgcolor": "#E5ECF6",
          "polar": {
           "angularaxis": {
            "gridcolor": "white",
            "linecolor": "white",
            "ticks": ""
           },
           "bgcolor": "#E5ECF6",
           "radialaxis": {
            "gridcolor": "white",
            "linecolor": "white",
            "ticks": ""
           }
          },
          "scene": {
           "xaxis": {
            "backgroundcolor": "#E5ECF6",
            "gridcolor": "white",
            "gridwidth": 2,
            "linecolor": "white",
            "showbackground": true,
            "ticks": "",
            "zerolinecolor": "white"
           },
           "yaxis": {
            "backgroundcolor": "#E5ECF6",
            "gridcolor": "white",
            "gridwidth": 2,
            "linecolor": "white",
            "showbackground": true,
            "ticks": "",
            "zerolinecolor": "white"
           },
           "zaxis": {
            "backgroundcolor": "#E5ECF6",
            "gridcolor": "white",
            "gridwidth": 2,
            "linecolor": "white",
            "showbackground": true,
            "ticks": "",
            "zerolinecolor": "white"
           }
          },
          "shapedefaults": {
           "line": {
            "color": "#2a3f5f"
           }
          },
          "ternary": {
           "aaxis": {
            "gridcolor": "white",
            "linecolor": "white",
            "ticks": ""
           },
           "baxis": {
            "gridcolor": "white",
            "linecolor": "white",
            "ticks": ""
           },
           "bgcolor": "#E5ECF6",
           "caxis": {
            "gridcolor": "white",
            "linecolor": "white",
            "ticks": ""
           }
          },
          "title": {
           "x": 0.05
          },
          "xaxis": {
           "automargin": true,
           "gridcolor": "white",
           "linecolor": "white",
           "ticks": "",
           "title": {
            "standoff": 15
           },
           "zerolinecolor": "white",
           "zerolinewidth": 2
          },
          "yaxis": {
           "automargin": true,
           "gridcolor": "white",
           "linecolor": "white",
           "ticks": "",
           "title": {
            "standoff": 15
           },
           "zerolinecolor": "white",
           "zerolinewidth": 2
          }
         }
        },
        "xaxis": {
         "anchor": "y",
         "domain": [
          0,
          1
         ],
         "title": {
          "text": "index"
         }
        },
        "yaxis": {
         "anchor": "x",
         "domain": [
          0,
          1
         ],
         "title": {
          "text": "value"
         }
        }
       }
      },
      "text/html": [
       "<div>                            <div id=\"7a838271-1876-47b2-a489-dcdeecf2aebc\" class=\"plotly-graph-div\" style=\"height:525px; width:100%;\"></div>            <script type=\"text/javascript\">                require([\"plotly\"], function(Plotly) {                    window.PLOTLYENV=window.PLOTLYENV || {};                                    if (document.getElementById(\"7a838271-1876-47b2-a489-dcdeecf2aebc\")) {                    Plotly.newPlot(                        \"7a838271-1876-47b2-a489-dcdeecf2aebc\",                        [{\"hovertemplate\":\"cluster=cluster_9<br>index=%{x}<br>value=%{y}<extra></extra>\",\"legendgroup\":\"cluster_9\",\"line\":{\"color\":\"#636efa\",\"dash\":\"solid\"},\"marker\":{\"symbol\":\"circle\"},\"mode\":\"lines\",\"name\":\"cluster_9\",\"orientation\":\"v\",\"showlegend\":true,\"x\":[\"cons_length-100\",\"cons_length-150\",\"cons_length-200\",\"cons_length-250\",\"cons_length-300\",\"cons_length-350\",\"cons_length-400\",\"cons_length-450\",\"cons_length-500\",\"cons_length-20%\",\"cons_length-40%\",\"cons_length-60%\",\"cons_length-80%\",\"cons_length-100%\"],\"xaxis\":\"x\",\"y\":[446,446,446,444,562,562,562,562,562,4804,4804,4636,4636,4805],\"yaxis\":\"y\",\"type\":\"scatter\"},{\"hovertemplate\":\"cluster=cluster_8<br>index=%{x}<br>value=%{y}<extra></extra>\",\"legendgroup\":\"cluster_8\",\"line\":{\"color\":\"#EF553B\",\"dash\":\"solid\"},\"marker\":{\"symbol\":\"circle\"},\"mode\":\"lines\",\"name\":\"cluster_8\",\"orientation\":\"v\",\"showlegend\":true,\"x\":[\"cons_length-100\",\"cons_length-150\",\"cons_length-200\",\"cons_length-250\",\"cons_length-300\",\"cons_length-350\",\"cons_length-400\",\"cons_length-450\",\"cons_length-500\",\"cons_length-20%\",\"cons_length-40%\",\"cons_length-60%\",\"cons_length-80%\",\"cons_length-100%\"],\"xaxis\":\"x\",\"y\":[202,202,202,202,202,202,202,202,202,202,220,543,543,543],\"yaxis\":\"y\",\"type\":\"scatter\"},{\"hovertemplate\":\"cluster=cluster_7<br>index=%{x}<br>value=%{y}<extra></extra>\",\"legendgroup\":\"cluster_7\",\"line\":{\"color\":\"#00cc96\",\"dash\":\"solid\"},\"marker\":{\"symbol\":\"circle\"},\"mode\":\"lines\",\"name\":\"cluster_7\",\"orientation\":\"v\",\"showlegend\":true,\"x\":[\"cons_length-100\",\"cons_length-150\",\"cons_length-200\",\"cons_length-250\",\"cons_length-300\",\"cons_length-350\",\"cons_length-400\",\"cons_length-450\",\"cons_length-500\",\"cons_length-20%\",\"cons_length-40%\",\"cons_length-60%\",\"cons_length-80%\",\"cons_length-100%\"],\"xaxis\":\"x\",\"y\":[1403,1493,1492,1495,1494,1343,1343,1343,1604,1601,1601,3509,3509,3509],\"yaxis\":\"y\",\"type\":\"scatter\"},{\"hovertemplate\":\"cluster=cluster_6<br>index=%{x}<br>value=%{y}<extra></extra>\",\"legendgroup\":\"cluster_6\",\"line\":{\"color\":\"#ab63fa\",\"dash\":\"solid\"},\"marker\":{\"symbol\":\"circle\"},\"mode\":\"lines\",\"name\":\"cluster_6\",\"orientation\":\"v\",\"showlegend\":true,\"x\":[\"cons_length-100\",\"cons_length-150\",\"cons_length-200\",\"cons_length-250\",\"cons_length-300\",\"cons_length-350\",\"cons_length-400\",\"cons_length-450\",\"cons_length-500\",\"cons_length-20%\",\"cons_length-40%\",\"cons_length-60%\",\"cons_length-80%\",\"cons_length-100%\"],\"xaxis\":\"x\",\"y\":[900,899,899,899,899,899,899,899,899,897,897,897,897,899],\"yaxis\":\"y\",\"type\":\"scatter\"},{\"hovertemplate\":\"cluster=cluster_5<br>index=%{x}<br>value=%{y}<extra></extra>\",\"legendgroup\":\"cluster_5\",\"line\":{\"color\":\"#FFA15A\",\"dash\":\"solid\"},\"marker\":{\"symbol\":\"circle\"},\"mode\":\"lines\",\"name\":\"cluster_5\",\"orientation\":\"v\",\"showlegend\":true,\"x\":[\"cons_length-100\",\"cons_length-150\",\"cons_length-200\",\"cons_length-250\",\"cons_length-300\",\"cons_length-350\",\"cons_length-400\",\"cons_length-450\",\"cons_length-500\",\"cons_length-20%\",\"cons_length-40%\",\"cons_length-60%\",\"cons_length-80%\",\"cons_length-100%\"],\"xaxis\":\"x\",\"y\":[147,147,147,147,147,147,147,147,147,5109,5109,5109,5109,5109],\"yaxis\":\"y\",\"type\":\"scatter\"},{\"hovertemplate\":\"cluster=cluster_4<br>index=%{x}<br>value=%{y}<extra></extra>\",\"legendgroup\":\"cluster_4\",\"line\":{\"color\":\"#19d3f3\",\"dash\":\"solid\"},\"marker\":{\"symbol\":\"circle\"},\"mode\":\"lines\",\"name\":\"cluster_4\",\"orientation\":\"v\",\"showlegend\":true,\"x\":[\"cons_length-100\",\"cons_length-150\",\"cons_length-200\",\"cons_length-250\",\"cons_length-300\",\"cons_length-350\",\"cons_length-400\",\"cons_length-450\",\"cons_length-500\",\"cons_length-20%\",\"cons_length-40%\",\"cons_length-60%\",\"cons_length-80%\",\"cons_length-100%\"],\"xaxis\":\"x\",\"y\":[147,147,260,270,270,270,270,270,270,147,634,625,625,625],\"yaxis\":\"y\",\"type\":\"scatter\"},{\"hovertemplate\":\"cluster=cluster_3<br>index=%{x}<br>value=%{y}<extra></extra>\",\"legendgroup\":\"cluster_3\",\"line\":{\"color\":\"#FF6692\",\"dash\":\"solid\"},\"marker\":{\"symbol\":\"circle\"},\"mode\":\"lines\",\"name\":\"cluster_3\",\"orientation\":\"v\",\"showlegend\":true,\"x\":[\"cons_length-100\",\"cons_length-150\",\"cons_length-200\",\"cons_length-250\",\"cons_length-300\",\"cons_length-350\",\"cons_length-400\",\"cons_length-450\",\"cons_length-500\",\"cons_length-20%\",\"cons_length-40%\",\"cons_length-60%\",\"cons_length-80%\",\"cons_length-100%\"],\"xaxis\":\"x\",\"y\":[1433,1869,1862,2678,2810,2810,2809,3244,5947,5948,5947,5947,5947,5947],\"yaxis\":\"y\",\"type\":\"scatter\"},{\"hovertemplate\":\"cluster=cluster_2<br>index=%{x}<br>value=%{y}<extra></extra>\",\"legendgroup\":\"cluster_2\",\"line\":{\"color\":\"#B6E880\",\"dash\":\"solid\"},\"marker\":{\"symbol\":\"circle\"},\"mode\":\"lines\",\"name\":\"cluster_2\",\"orientation\":\"v\",\"showlegend\":true,\"x\":[\"cons_length-100\",\"cons_length-150\",\"cons_length-200\",\"cons_length-250\",\"cons_length-300\",\"cons_length-350\",\"cons_length-400\",\"cons_length-450\",\"cons_length-500\",\"cons_length-20%\",\"cons_length-40%\",\"cons_length-60%\",\"cons_length-80%\",\"cons_length-100%\"],\"xaxis\":\"x\",\"y\":[1562,1561,1561,1561,1561,1561,1561,1561,1561,1561,1561,1603,1610,1608],\"yaxis\":\"y\",\"type\":\"scatter\"},{\"hovertemplate\":\"cluster=cluster_1<br>index=%{x}<br>value=%{y}<extra></extra>\",\"legendgroup\":\"cluster_1\",\"line\":{\"color\":\"#FF97FF\",\"dash\":\"solid\"},\"marker\":{\"symbol\":\"circle\"},\"mode\":\"lines\",\"name\":\"cluster_1\",\"orientation\":\"v\",\"showlegend\":true,\"x\":[\"cons_length-100\",\"cons_length-150\",\"cons_length-200\",\"cons_length-250\",\"cons_length-300\",\"cons_length-350\",\"cons_length-400\",\"cons_length-450\",\"cons_length-500\",\"cons_length-20%\",\"cons_length-40%\",\"cons_length-60%\",\"cons_length-80%\",\"cons_length-100%\"],\"xaxis\":\"x\",\"y\":[1164,3180,3180,3180,3180,3180,3180,3180,3180,3169,3162,3162,3162,3162],\"yaxis\":\"y\",\"type\":\"scatter\"},{\"hovertemplate\":\"cluster=cluster_0<br>index=%{x}<br>value=%{y}<extra></extra>\",\"legendgroup\":\"cluster_0\",\"line\":{\"color\":\"#FECB52\",\"dash\":\"solid\"},\"marker\":{\"symbol\":\"circle\"},\"mode\":\"lines\",\"name\":\"cluster_0\",\"orientation\":\"v\",\"showlegend\":true,\"x\":[\"cons_length-100\",\"cons_length-150\",\"cons_length-200\",\"cons_length-250\",\"cons_length-300\",\"cons_length-350\",\"cons_length-400\",\"cons_length-450\",\"cons_length-500\",\"cons_length-20%\",\"cons_length-40%\",\"cons_length-60%\",\"cons_length-80%\",\"cons_length-100%\"],\"xaxis\":\"x\",\"y\":[4102,6571,6571,6571,6570,6604,6572,6571,6603,6704,6534,6534,6527,6527],\"yaxis\":\"y\",\"type\":\"scatter\"}],                        {\"template\":{\"data\":{\"bar\":[{\"error_x\":{\"color\":\"#2a3f5f\"},\"error_y\":{\"color\":\"#2a3f5f\"},\"marker\":{\"line\":{\"color\":\"#E5ECF6\",\"width\":0.5},\"pattern\":{\"fillmode\":\"overlay\",\"size\":10,\"solidity\":0.2}},\"type\":\"bar\"}],\"barpolar\":[{\"marker\":{\"line\":{\"color\":\"#E5ECF6\",\"width\":0.5},\"pattern\":{\"fillmode\":\"overlay\",\"size\":10,\"solidity\":0.2}},\"type\":\"barpolar\"}],\"carpet\":[{\"aaxis\":{\"endlinecolor\":\"#2a3f5f\",\"gridcolor\":\"white\",\"linecolor\":\"white\",\"minorgridcolor\":\"white\",\"startlinecolor\":\"#2a3f5f\"},\"baxis\":{\"endlinecolor\":\"#2a3f5f\",\"gridcolor\":\"white\",\"linecolor\":\"white\",\"minorgridcolor\":\"white\",\"startlinecolor\":\"#2a3f5f\"},\"type\":\"carpet\"}],\"choropleth\":[{\"colorbar\":{\"outlinewidth\":0,\"ticks\":\"\"},\"type\":\"choropleth\"}],\"contour\":[{\"colorbar\":{\"outlinewidth\":0,\"ticks\":\"\"},\"colorscale\":[[0.0,\"#0d0887\"],[0.1111111111111111,\"#46039f\"],[0.2222222222222222,\"#7201a8\"],[0.3333333333333333,\"#9c179e\"],[0.4444444444444444,\"#bd3786\"],[0.5555555555555556,\"#d8576b\"],[0.6666666666666666,\"#ed7953\"],[0.7777777777777778,\"#fb9f3a\"],[0.8888888888888888,\"#fdca26\"],[1.0,\"#f0f921\"]],\"type\":\"contour\"}],\"contourcarpet\":[{\"colorbar\":{\"outlinewidth\":0,\"ticks\":\"\"},\"type\":\"contourcarpet\"}],\"heatmap\":[{\"colorbar\":{\"outlinewidth\":0,\"ticks\":\"\"},\"colorscale\":[[0.0,\"#0d0887\"],[0.1111111111111111,\"#46039f\"],[0.2222222222222222,\"#7201a8\"],[0.3333333333333333,\"#9c179e\"],[0.4444444444444444,\"#bd3786\"],[0.5555555555555556,\"#d8576b\"],[0.6666666666666666,\"#ed7953\"],[0.7777777777777778,\"#fb9f3a\"],[0.8888888888888888,\"#fdca26\"],[1.0,\"#f0f921\"]],\"type\":\"heatmap\"}],\"heatmapgl\":[{\"colorbar\":{\"outlinewidth\":0,\"ticks\":\"\"},\"colorscale\":[[0.0,\"#0d0887\"],[0.1111111111111111,\"#46039f\"],[0.2222222222222222,\"#7201a8\"],[0.3333333333333333,\"#9c179e\"],[0.4444444444444444,\"#bd3786\"],[0.5555555555555556,\"#d8576b\"],[0.6666666666666666,\"#ed7953\"],[0.7777777777777778,\"#fb9f3a\"],[0.8888888888888888,\"#fdca26\"],[1.0,\"#f0f921\"]],\"type\":\"heatmapgl\"}],\"histogram\":[{\"marker\":{\"pattern\":{\"fillmode\":\"overlay\",\"size\":10,\"solidity\":0.2}},\"type\":\"histogram\"}],\"histogram2d\":[{\"colorbar\":{\"outlinewidth\":0,\"ticks\":\"\"},\"colorscale\":[[0.0,\"#0d0887\"],[0.1111111111111111,\"#46039f\"],[0.2222222222222222,\"#7201a8\"],[0.3333333333333333,\"#9c179e\"],[0.4444444444444444,\"#bd3786\"],[0.5555555555555556,\"#d8576b\"],[0.6666666666666666,\"#ed7953\"],[0.7777777777777778,\"#fb9f3a\"],[0.8888888888888888,\"#fdca26\"],[1.0,\"#f0f921\"]],\"type\":\"histogram2d\"}],\"histogram2dcontour\":[{\"colorbar\":{\"outlinewidth\":0,\"ticks\":\"\"},\"colorscale\":[[0.0,\"#0d0887\"],[0.1111111111111111,\"#46039f\"],[0.2222222222222222,\"#7201a8\"],[0.3333333333333333,\"#9c179e\"],[0.4444444444444444,\"#bd3786\"],[0.5555555555555556,\"#d8576b\"],[0.6666666666666666,\"#ed7953\"],[0.7777777777777778,\"#fb9f3a\"],[0.8888888888888888,\"#fdca26\"],[1.0,\"#f0f921\"]],\"type\":\"histogram2dcontour\"}],\"mesh3d\":[{\"colorbar\":{\"outlinewidth\":0,\"ticks\":\"\"},\"type\":\"mesh3d\"}],\"parcoords\":[{\"line\":{\"colorbar\":{\"outlinewidth\":0,\"ticks\":\"\"}},\"type\":\"parcoords\"}],\"pie\":[{\"automargin\":true,\"type\":\"pie\"}],\"scatter\":[{\"marker\":{\"colorbar\":{\"outlinewidth\":0,\"ticks\":\"\"}},\"type\":\"scatter\"}],\"scatter3d\":[{\"line\":{\"colorbar\":{\"outlinewidth\":0,\"ticks\":\"\"}},\"marker\":{\"colorbar\":{\"outlinewidth\":0,\"ticks\":\"\"}},\"type\":\"scatter3d\"}],\"scattercarpet\":[{\"marker\":{\"colorbar\":{\"outlinewidth\":0,\"ticks\":\"\"}},\"type\":\"scattercarpet\"}],\"scattergeo\":[{\"marker\":{\"colorbar\":{\"outlinewidth\":0,\"ticks\":\"\"}},\"type\":\"scattergeo\"}],\"scattergl\":[{\"marker\":{\"colorbar\":{\"outlinewidth\":0,\"ticks\":\"\"}},\"type\":\"scattergl\"}],\"scattermapbox\":[{\"marker\":{\"colorbar\":{\"outlinewidth\":0,\"ticks\":\"\"}},\"type\":\"scattermapbox\"}],\"scatterpolar\":[{\"marker\":{\"colorbar\":{\"outlinewidth\":0,\"ticks\":\"\"}},\"type\":\"scatterpolar\"}],\"scatterpolargl\":[{\"marker\":{\"colorbar\":{\"outlinewidth\":0,\"ticks\":\"\"}},\"type\":\"scatterpolargl\"}],\"scatterternary\":[{\"marker\":{\"colorbar\":{\"outlinewidth\":0,\"ticks\":\"\"}},\"type\":\"scatterternary\"}],\"surface\":[{\"colorbar\":{\"outlinewidth\":0,\"ticks\":\"\"},\"colorscale\":[[0.0,\"#0d0887\"],[0.1111111111111111,\"#46039f\"],[0.2222222222222222,\"#7201a8\"],[0.3333333333333333,\"#9c179e\"],[0.4444444444444444,\"#bd3786\"],[0.5555555555555556,\"#d8576b\"],[0.6666666666666666,\"#ed7953\"],[0.7777777777777778,\"#fb9f3a\"],[0.8888888888888888,\"#fdca26\"],[1.0,\"#f0f921\"]],\"type\":\"surface\"}],\"table\":[{\"cells\":{\"fill\":{\"color\":\"#EBF0F8\"},\"line\":{\"color\":\"white\"}},\"header\":{\"fill\":{\"color\":\"#C8D4E3\"},\"line\":{\"color\":\"white\"}},\"type\":\"table\"}]},\"layout\":{\"annotationdefaults\":{\"arrowcolor\":\"#2a3f5f\",\"arrowhead\":0,\"arrowwidth\":1},\"autotypenumbers\":\"strict\",\"coloraxis\":{\"colorbar\":{\"outlinewidth\":0,\"ticks\":\"\"}},\"colorscale\":{\"diverging\":[[0,\"#8e0152\"],[0.1,\"#c51b7d\"],[0.2,\"#de77ae\"],[0.3,\"#f1b6da\"],[0.4,\"#fde0ef\"],[0.5,\"#f7f7f7\"],[0.6,\"#e6f5d0\"],[0.7,\"#b8e186\"],[0.8,\"#7fbc41\"],[0.9,\"#4d9221\"],[1,\"#276419\"]],\"sequential\":[[0.0,\"#0d0887\"],[0.1111111111111111,\"#46039f\"],[0.2222222222222222,\"#7201a8\"],[0.3333333333333333,\"#9c179e\"],[0.4444444444444444,\"#bd3786\"],[0.5555555555555556,\"#d8576b\"],[0.6666666666666666,\"#ed7953\"],[0.7777777777777778,\"#fb9f3a\"],[0.8888888888888888,\"#fdca26\"],[1.0,\"#f0f921\"]],\"sequentialminus\":[[0.0,\"#0d0887\"],[0.1111111111111111,\"#46039f\"],[0.2222222222222222,\"#7201a8\"],[0.3333333333333333,\"#9c179e\"],[0.4444444444444444,\"#bd3786\"],[0.5555555555555556,\"#d8576b\"],[0.6666666666666666,\"#ed7953\"],[0.7777777777777778,\"#fb9f3a\"],[0.8888888888888888,\"#fdca26\"],[1.0,\"#f0f921\"]]},\"colorway\":[\"#636efa\",\"#EF553B\",\"#00cc96\",\"#ab63fa\",\"#FFA15A\",\"#19d3f3\",\"#FF6692\",\"#B6E880\",\"#FF97FF\",\"#FECB52\"],\"font\":{\"color\":\"#2a3f5f\"},\"geo\":{\"bgcolor\":\"white\",\"lakecolor\":\"white\",\"landcolor\":\"#E5ECF6\",\"showlakes\":true,\"showland\":true,\"subunitcolor\":\"white\"},\"hoverlabel\":{\"align\":\"left\"},\"hovermode\":\"closest\",\"mapbox\":{\"style\":\"light\"},\"paper_bgcolor\":\"white\",\"plot_bgcolor\":\"#E5ECF6\",\"polar\":{\"angularaxis\":{\"gridcolor\":\"white\",\"linecolor\":\"white\",\"ticks\":\"\"},\"bgcolor\":\"#E5ECF6\",\"radialaxis\":{\"gridcolor\":\"white\",\"linecolor\":\"white\",\"ticks\":\"\"}},\"scene\":{\"xaxis\":{\"backgroundcolor\":\"#E5ECF6\",\"gridcolor\":\"white\",\"gridwidth\":2,\"linecolor\":\"white\",\"showbackground\":true,\"ticks\":\"\",\"zerolinecolor\":\"white\"},\"yaxis\":{\"backgroundcolor\":\"#E5ECF6\",\"gridcolor\":\"white\",\"gridwidth\":2,\"linecolor\":\"white\",\"showbackground\":true,\"ticks\":\"\",\"zerolinecolor\":\"white\"},\"zaxis\":{\"backgroundcolor\":\"#E5ECF6\",\"gridcolor\":\"white\",\"gridwidth\":2,\"linecolor\":\"white\",\"showbackground\":true,\"ticks\":\"\",\"zerolinecolor\":\"white\"}},\"shapedefaults\":{\"line\":{\"color\":\"#2a3f5f\"}},\"ternary\":{\"aaxis\":{\"gridcolor\":\"white\",\"linecolor\":\"white\",\"ticks\":\"\"},\"baxis\":{\"gridcolor\":\"white\",\"linecolor\":\"white\",\"ticks\":\"\"},\"bgcolor\":\"#E5ECF6\",\"caxis\":{\"gridcolor\":\"white\",\"linecolor\":\"white\",\"ticks\":\"\"}},\"title\":{\"x\":0.05},\"xaxis\":{\"automargin\":true,\"gridcolor\":\"white\",\"linecolor\":\"white\",\"ticks\":\"\",\"title\":{\"standoff\":15},\"zerolinecolor\":\"white\",\"zerolinewidth\":2},\"yaxis\":{\"automargin\":true,\"gridcolor\":\"white\",\"linecolor\":\"white\",\"ticks\":\"\",\"title\":{\"standoff\":15},\"zerolinecolor\":\"white\",\"zerolinewidth\":2}}},\"xaxis\":{\"anchor\":\"y\",\"domain\":[0.0,1.0],\"title\":{\"text\":\"index\"}},\"yaxis\":{\"anchor\":\"x\",\"domain\":[0.0,1.0],\"title\":{\"text\":\"value\"}},\"legend\":{\"title\":{\"text\":\"cluster\"},\"tracegroupgap\":0},\"margin\":{\"t\":60}},                        {\"responsive\": true}                    ).then(function(){\n",
       "                            \n",
       "var gd = document.getElementById('7a838271-1876-47b2-a489-dcdeecf2aebc');\n",
       "var x = new MutationObserver(function (mutations, observer) {{\n",
       "        var display = window.getComputedStyle(gd).display;\n",
       "        if (!display || display === 'none') {{\n",
       "            console.log([gd, 'removed!']);\n",
       "            Plotly.purge(gd);\n",
       "            observer.disconnect();\n",
       "        }}\n",
       "}});\n",
       "\n",
       "// Listen for the removal of the full notebook cells\n",
       "var notebookContainer = gd.closest('#notebook-container');\n",
       "if (notebookContainer) {{\n",
       "    x.observe(notebookContainer, {childList: true});\n",
       "}}\n",
       "\n",
       "// Listen for the clearing of the current output cell\n",
       "var outputEl = gd.closest('.output');\n",
       "if (outputEl) {{\n",
       "    x.observe(outputEl, {childList: true});\n",
       "}}\n",
       "\n",
       "                        })                };                });            </script>        </div>"
      ]
     },
     "metadata": {},
     "output_type": "display_data"
    }
   ],
   "source": [
    "fig = px.line(cons_length)\n",
    "fig.show()"
   ]
  },
  {
   "cell_type": "markdown",
   "id": "0c684bc5",
   "metadata": {},
   "source": [
    "## The distance to the sample at 500 sequences"
   ]
  },
  {
   "cell_type": "code",
   "execution_count": 132,
   "id": "deaeeadb",
   "metadata": {},
   "outputs": [],
   "source": [
    "cons_div = refiner[['div-100', 'div-150', 'div-200', 'div-250', 'div-300', 'div-350', 'div-400', 'div-450', \\\n",
    "                    'div-500', 'div-20%', 'div-40%', 'div-60%', 'div-80%', 'div-100%']]\n",
    "cons_div = cons_div.T"
   ]
  },
  {
   "cell_type": "code",
   "execution_count": 133,
   "id": "adcb1828",
   "metadata": {},
   "outputs": [
    {
     "data": {
      "text/html": [
       "<div>\n",
       "<style scoped>\n",
       "    .dataframe tbody tr th:only-of-type {\n",
       "        vertical-align: middle;\n",
       "    }\n",
       "\n",
       "    .dataframe tbody tr th {\n",
       "        vertical-align: top;\n",
       "    }\n",
       "\n",
       "    .dataframe thead th {\n",
       "        text-align: right;\n",
       "    }\n",
       "</style>\n",
       "<table border=\"1\" class=\"dataframe\">\n",
       "  <thead>\n",
       "    <tr style=\"text-align: right;\">\n",
       "      <th>cluster</th>\n",
       "      <th>cluster_9</th>\n",
       "      <th>cluster_8</th>\n",
       "      <th>cluster_7</th>\n",
       "      <th>cluster_6</th>\n",
       "      <th>cluster_5</th>\n",
       "      <th>cluster_4</th>\n",
       "      <th>cluster_3</th>\n",
       "      <th>cluster_2</th>\n",
       "      <th>cluster_1</th>\n",
       "      <th>cluster_0</th>\n",
       "    </tr>\n",
       "  </thead>\n",
       "  <tbody>\n",
       "    <tr>\n",
       "      <th>div-100</th>\n",
       "      <td>0.126984</td>\n",
       "      <td>0.212871</td>\n",
       "      <td>0.076156</td>\n",
       "      <td>0.001668</td>\n",
       "      <td>0.000000</td>\n",
       "      <td>0.314149</td>\n",
       "      <td>0.612737</td>\n",
       "      <td>0.001601</td>\n",
       "      <td>0.493554</td>\n",
       "      <td>0.393554</td>\n",
       "    </tr>\n",
       "    <tr>\n",
       "      <th>div-150</th>\n",
       "      <td>0.126984</td>\n",
       "      <td>0.000000</td>\n",
       "      <td>0.056506</td>\n",
       "      <td>0.000000</td>\n",
       "      <td>0.000000</td>\n",
       "      <td>0.314149</td>\n",
       "      <td>0.532497</td>\n",
       "      <td>0.000000</td>\n",
       "      <td>0.000000</td>\n",
       "      <td>0.004099</td>\n",
       "    </tr>\n",
       "    <tr>\n",
       "      <th>div-200</th>\n",
       "      <td>0.130952</td>\n",
       "      <td>0.000000</td>\n",
       "      <td>0.057494</td>\n",
       "      <td>0.000000</td>\n",
       "      <td>0.000000</td>\n",
       "      <td>0.022642</td>\n",
       "      <td>0.533615</td>\n",
       "      <td>0.000000</td>\n",
       "      <td>0.000000</td>\n",
       "      <td>0.004099</td>\n",
       "    </tr>\n",
       "    <tr>\n",
       "      <th>div-250</th>\n",
       "      <td>0.379722</td>\n",
       "      <td>0.000000</td>\n",
       "      <td>0.054534</td>\n",
       "      <td>0.000000</td>\n",
       "      <td>0.000000</td>\n",
       "      <td>0.003704</td>\n",
       "      <td>0.444638</td>\n",
       "      <td>0.000000</td>\n",
       "      <td>0.000000</td>\n",
       "      <td>0.003188</td>\n",
       "    </tr>\n",
       "    <tr>\n",
       "      <th>div-300</th>\n",
       "      <td>0.001779</td>\n",
       "      <td>0.000000</td>\n",
       "      <td>0.054229</td>\n",
       "      <td>0.000000</td>\n",
       "      <td>0.000000</td>\n",
       "      <td>0.003704</td>\n",
       "      <td>0.363252</td>\n",
       "      <td>0.000000</td>\n",
       "      <td>0.000000</td>\n",
       "      <td>0.003264</td>\n",
       "    </tr>\n",
       "    <tr>\n",
       "      <th>div-350</th>\n",
       "      <td>0.003559</td>\n",
       "      <td>0.000000</td>\n",
       "      <td>0.098744</td>\n",
       "      <td>0.000000</td>\n",
       "      <td>0.000000</td>\n",
       "      <td>0.000000</td>\n",
       "      <td>0.362567</td>\n",
       "      <td>0.000000</td>\n",
       "      <td>0.000000</td>\n",
       "      <td>0.000681</td>\n",
       "    </tr>\n",
       "    <tr>\n",
       "      <th>div-400</th>\n",
       "      <td>0.005338</td>\n",
       "      <td>0.000000</td>\n",
       "      <td>0.098744</td>\n",
       "      <td>0.000000</td>\n",
       "      <td>0.000000</td>\n",
       "      <td>0.000000</td>\n",
       "      <td>0.361809</td>\n",
       "      <td>0.000000</td>\n",
       "      <td>0.000000</td>\n",
       "      <td>0.004023</td>\n",
       "    </tr>\n",
       "    <tr>\n",
       "      <th>div-450</th>\n",
       "      <td>0.000000</td>\n",
       "      <td>0.000000</td>\n",
       "      <td>0.100102</td>\n",
       "      <td>0.000000</td>\n",
       "      <td>0.000000</td>\n",
       "      <td>0.000000</td>\n",
       "      <td>0.296268</td>\n",
       "      <td>0.000000</td>\n",
       "      <td>0.000000</td>\n",
       "      <td>0.004099</td>\n",
       "    </tr>\n",
       "    <tr>\n",
       "      <th>div-500</th>\n",
       "      <td>0.000000</td>\n",
       "      <td>0.000000</td>\n",
       "      <td>0.000000</td>\n",
       "      <td>0.000000</td>\n",
       "      <td>0.000000</td>\n",
       "      <td>0.000000</td>\n",
       "      <td>0.000000</td>\n",
       "      <td>0.000000</td>\n",
       "      <td>0.000000</td>\n",
       "      <td>0.000000</td>\n",
       "    </tr>\n",
       "    <tr>\n",
       "      <th>div-20%</th>\n",
       "      <td>0.791651</td>\n",
       "      <td>0.000000</td>\n",
       "      <td>0.003432</td>\n",
       "      <td>0.007795</td>\n",
       "      <td>0.944064</td>\n",
       "      <td>0.309353</td>\n",
       "      <td>0.058092</td>\n",
       "      <td>0.000000</td>\n",
       "      <td>0.018113</td>\n",
       "      <td>0.039603</td>\n",
       "    </tr>\n",
       "    <tr>\n",
       "      <th>div-40%</th>\n",
       "      <td>0.791651</td>\n",
       "      <td>0.080569</td>\n",
       "      <td>0.021529</td>\n",
       "      <td>0.007795</td>\n",
       "      <td>0.944064</td>\n",
       "      <td>0.473451</td>\n",
       "      <td>0.060198</td>\n",
       "      <td>0.000000</td>\n",
       "      <td>0.021760</td>\n",
       "      <td>0.028089</td>\n",
       "    </tr>\n",
       "    <tr>\n",
       "      <th>div-60%</th>\n",
       "      <td>0.784148</td>\n",
       "      <td>0.476510</td>\n",
       "      <td>0.410131</td>\n",
       "      <td>0.007795</td>\n",
       "      <td>0.944064</td>\n",
       "      <td>0.472626</td>\n",
       "      <td>0.066420</td>\n",
       "      <td>0.014539</td>\n",
       "      <td>0.021760</td>\n",
       "      <td>0.028089</td>\n",
       "    </tr>\n",
       "    <tr>\n",
       "      <th>div-80%</th>\n",
       "      <td>0.784148</td>\n",
       "      <td>0.476510</td>\n",
       "      <td>0.410131</td>\n",
       "      <td>0.008909</td>\n",
       "      <td>0.944064</td>\n",
       "      <td>0.472626</td>\n",
       "      <td>0.066420</td>\n",
       "      <td>0.016083</td>\n",
       "      <td>0.021760</td>\n",
       "      <td>0.029855</td>\n",
       "    </tr>\n",
       "    <tr>\n",
       "      <th>div-100%</th>\n",
       "      <td>0.791690</td>\n",
       "      <td>0.476510</td>\n",
       "      <td>0.410131</td>\n",
       "      <td>0.414905</td>\n",
       "      <td>0.944064</td>\n",
       "      <td>0.472626</td>\n",
       "      <td>0.066420</td>\n",
       "      <td>0.026191</td>\n",
       "      <td>0.021760</td>\n",
       "      <td>0.029855</td>\n",
       "    </tr>\n",
       "  </tbody>\n",
       "</table>\n",
       "</div>"
      ],
      "text/plain": [
       "cluster   cluster_9  cluster_8  cluster_7  cluster_6  cluster_5  cluster_4  \\\n",
       "div-100    0.126984   0.212871   0.076156   0.001668   0.000000   0.314149   \n",
       "div-150    0.126984   0.000000   0.056506   0.000000   0.000000   0.314149   \n",
       "div-200    0.130952   0.000000   0.057494   0.000000   0.000000   0.022642   \n",
       "div-250    0.379722   0.000000   0.054534   0.000000   0.000000   0.003704   \n",
       "div-300    0.001779   0.000000   0.054229   0.000000   0.000000   0.003704   \n",
       "div-350    0.003559   0.000000   0.098744   0.000000   0.000000   0.000000   \n",
       "div-400    0.005338   0.000000   0.098744   0.000000   0.000000   0.000000   \n",
       "div-450    0.000000   0.000000   0.100102   0.000000   0.000000   0.000000   \n",
       "div-500    0.000000   0.000000   0.000000   0.000000   0.000000   0.000000   \n",
       "div-20%    0.791651   0.000000   0.003432   0.007795   0.944064   0.309353   \n",
       "div-40%    0.791651   0.080569   0.021529   0.007795   0.944064   0.473451   \n",
       "div-60%    0.784148   0.476510   0.410131   0.007795   0.944064   0.472626   \n",
       "div-80%    0.784148   0.476510   0.410131   0.008909   0.944064   0.472626   \n",
       "div-100%   0.791690   0.476510   0.410131   0.414905   0.944064   0.472626   \n",
       "\n",
       "cluster   cluster_3  cluster_2  cluster_1  cluster_0  \n",
       "div-100    0.612737   0.001601   0.493554   0.393554  \n",
       "div-150    0.532497   0.000000   0.000000   0.004099  \n",
       "div-200    0.533615   0.000000   0.000000   0.004099  \n",
       "div-250    0.444638   0.000000   0.000000   0.003188  \n",
       "div-300    0.363252   0.000000   0.000000   0.003264  \n",
       "div-350    0.362567   0.000000   0.000000   0.000681  \n",
       "div-400    0.361809   0.000000   0.000000   0.004023  \n",
       "div-450    0.296268   0.000000   0.000000   0.004099  \n",
       "div-500    0.000000   0.000000   0.000000   0.000000  \n",
       "div-20%    0.058092   0.000000   0.018113   0.039603  \n",
       "div-40%    0.060198   0.000000   0.021760   0.028089  \n",
       "div-60%    0.066420   0.014539   0.021760   0.028089  \n",
       "div-80%    0.066420   0.016083   0.021760   0.029855  \n",
       "div-100%   0.066420   0.026191   0.021760   0.029855  "
      ]
     },
     "execution_count": 133,
     "metadata": {},
     "output_type": "execute_result"
    }
   ],
   "source": [
    "cons_div"
   ]
  },
  {
   "cell_type": "code",
   "execution_count": 134,
   "id": "e03776f2",
   "metadata": {},
   "outputs": [
    {
     "data": {
      "application/vnd.plotly.v1+json": {
       "config": {
        "plotlyServerURL": "https://plot.ly"
       },
       "data": [
        {
         "hovertemplate": "cluster=cluster_9<br>index=%{x}<br>value=%{y}<extra></extra>",
         "legendgroup": "cluster_9",
         "line": {
          "color": "#636efa",
          "dash": "solid"
         },
         "marker": {
          "symbol": "circle"
         },
         "mode": "lines",
         "name": "cluster_9",
         "orientation": "v",
         "showlegend": true,
         "type": "scatter",
         "x": [
          "div-100",
          "div-150",
          "div-200",
          "div-250",
          "div-300",
          "div-350",
          "div-400",
          "div-450",
          "div-500",
          "div-20%",
          "div-40%",
          "div-60%",
          "div-80%",
          "div-100%"
         ],
         "xaxis": "x",
         "y": [
          0.12698412698412698,
          0.12698412698412698,
          0.13095238095238093,
          0.37972166998011925,
          0.001779359430605032,
          0.003558718861209953,
          0.005338078291814985,
          0,
          0,
          0.7916511367871786,
          0.7916511367871786,
          0.7841477491342824,
          0.7841477491342824,
          0.7916899571455189
         ],
         "yaxis": "y"
        },
        {
         "hovertemplate": "cluster=cluster_8<br>index=%{x}<br>value=%{y}<extra></extra>",
         "legendgroup": "cluster_8",
         "line": {
          "color": "#EF553B",
          "dash": "solid"
         },
         "marker": {
          "symbol": "circle"
         },
         "mode": "lines",
         "name": "cluster_8",
         "orientation": "v",
         "showlegend": true,
         "type": "scatter",
         "x": [
          "div-100",
          "div-150",
          "div-200",
          "div-250",
          "div-300",
          "div-350",
          "div-400",
          "div-450",
          "div-500",
          "div-20%",
          "div-40%",
          "div-60%",
          "div-80%",
          "div-100%"
         ],
         "xaxis": "x",
         "y": [
          0.21287128712871284,
          0,
          0,
          0,
          0,
          0,
          0,
          0,
          0,
          0,
          0.08056872037914697,
          0.47651006711409394,
          0.47651006711409394,
          0.47651006711409394
         ],
         "yaxis": "y"
        },
        {
         "hovertemplate": "cluster=cluster_7<br>index=%{x}<br>value=%{y}<extra></extra>",
         "legendgroup": "cluster_7",
         "line": {
          "color": "#00cc96",
          "dash": "solid"
         },
         "marker": {
          "symbol": "circle"
         },
         "mode": "lines",
         "name": "cluster_7",
         "orientation": "v",
         "showlegend": true,
         "type": "scatter",
         "x": [
          "div-100",
          "div-150",
          "div-200",
          "div-250",
          "div-300",
          "div-350",
          "div-400",
          "div-450",
          "div-500",
          "div-20%",
          "div-40%",
          "div-60%",
          "div-80%",
          "div-100%"
         ],
         "xaxis": "x",
         "y": [
          0.07615563684735616,
          0.05650629641588634,
          0.057493540051679615,
          0.054533720555017706,
          0.05422853453841192,
          0.09874448591788254,
          0.09874448591788254,
          0.10010179843909062,
          0,
          0.00343213728549141,
          0.02152886115444619,
          0.41013103852923916,
          0.41013103852923916,
          0.41013103852923916
         ],
         "yaxis": "y"
        },
        {
         "hovertemplate": "cluster=cluster_6<br>index=%{x}<br>value=%{y}<extra></extra>",
         "legendgroup": "cluster_6",
         "line": {
          "color": "#ab63fa",
          "dash": "solid"
         },
         "marker": {
          "symbol": "circle"
         },
         "mode": "lines",
         "name": "cluster_6",
         "orientation": "v",
         "showlegend": true,
         "type": "scatter",
         "x": [
          "div-100",
          "div-150",
          "div-200",
          "div-250",
          "div-300",
          "div-350",
          "div-400",
          "div-450",
          "div-500",
          "div-20%",
          "div-40%",
          "div-60%",
          "div-80%",
          "div-100%"
         ],
         "xaxis": "x",
         "y": [
          0.0016675931072818173,
          0,
          0,
          0,
          0,
          0,
          0,
          0,
          0,
          0.007795100222717122,
          0.007795100222717122,
          0.007795100222717122,
          0.008908685968819552,
          0.41490545050055616
         ],
         "yaxis": "y"
        },
        {
         "hovertemplate": "cluster=cluster_5<br>index=%{x}<br>value=%{y}<extra></extra>",
         "legendgroup": "cluster_5",
         "line": {
          "color": "#FFA15A",
          "dash": "solid"
         },
         "marker": {
          "symbol": "circle"
         },
         "mode": "lines",
         "name": "cluster_5",
         "orientation": "v",
         "showlegend": true,
         "type": "scatter",
         "x": [
          "div-100",
          "div-150",
          "div-200",
          "div-250",
          "div-300",
          "div-350",
          "div-400",
          "div-450",
          "div-500",
          "div-20%",
          "div-40%",
          "div-60%",
          "div-80%",
          "div-100%"
         ],
         "xaxis": "x",
         "y": [
          0,
          0,
          0,
          0,
          0,
          0,
          0,
          0,
          0,
          0.9440639269406392,
          0.9440639269406392,
          0.9440639269406392,
          0.9440639269406392,
          0.9440639269406392
         ],
         "yaxis": "y"
        },
        {
         "hovertemplate": "cluster=cluster_4<br>index=%{x}<br>value=%{y}<extra></extra>",
         "legendgroup": "cluster_4",
         "line": {
          "color": "#19d3f3",
          "dash": "solid"
         },
         "marker": {
          "symbol": "circle"
         },
         "mode": "lines",
         "name": "cluster_4",
         "orientation": "v",
         "showlegend": true,
         "type": "scatter",
         "x": [
          "div-100",
          "div-150",
          "div-200",
          "div-250",
          "div-300",
          "div-350",
          "div-400",
          "div-450",
          "div-500",
          "div-20%",
          "div-40%",
          "div-60%",
          "div-80%",
          "div-100%"
         ],
         "xaxis": "x",
         "y": [
          0.3141486810551559,
          0.3141486810551559,
          0.02264150943396226,
          0.0037037037037036535,
          0.0037037037037036535,
          0,
          0,
          0,
          0,
          0.3093525179856115,
          0.4734513274336283,
          0.47262569832402235,
          0.47262569832402235,
          0.47262569832402235
         ],
         "yaxis": "y"
        },
        {
         "hovertemplate": "cluster=cluster_3<br>index=%{x}<br>value=%{y}<extra></extra>",
         "legendgroup": "cluster_3",
         "line": {
          "color": "#FF6692",
          "dash": "solid"
         },
         "marker": {
          "symbol": "circle"
         },
         "mode": "lines",
         "name": "cluster_3",
         "orientation": "v",
         "showlegend": true,
         "type": "scatter",
         "x": [
          "div-100",
          "div-150",
          "div-200",
          "div-250",
          "div-300",
          "div-350",
          "div-400",
          "div-450",
          "div-500",
          "div-20%",
          "div-40%",
          "div-60%",
          "div-80%",
          "div-100%"
         ],
         "xaxis": "x",
         "y": [
          0.6127371273712737,
          0.5324974411463664,
          0.5336150595466769,
          0.44463768115942026,
          0.3632522553385863,
          0.36256708918579417,
          0.36180904522613067,
          0.29626808834729623,
          0,
          0.0580916351408155,
          0.06019841937111148,
          0.06642004371952248,
          0.06642004371952248,
          0.06642004371952248
         ],
         "yaxis": "y"
        },
        {
         "hovertemplate": "cluster=cluster_2<br>index=%{x}<br>value=%{y}<extra></extra>",
         "legendgroup": "cluster_2",
         "line": {
          "color": "#B6E880",
          "dash": "solid"
         },
         "marker": {
          "symbol": "circle"
         },
         "mode": "lines",
         "name": "cluster_2",
         "orientation": "v",
         "showlegend": true,
         "type": "scatter",
         "x": [
          "div-100",
          "div-150",
          "div-200",
          "div-250",
          "div-300",
          "div-350",
          "div-400",
          "div-450",
          "div-500",
          "div-20%",
          "div-40%",
          "div-60%",
          "div-80%",
          "div-100%"
         ],
         "xaxis": "x",
         "y": [
          0.0016010246557797148,
          0,
          0,
          0,
          0,
          0,
          0,
          0,
          0,
          0,
          0,
          0.014538558786346356,
          0.016083254493850507,
          0.026191227516566773
         ],
         "yaxis": "y"
        },
        {
         "hovertemplate": "cluster=cluster_1<br>index=%{x}<br>value=%{y}<extra></extra>",
         "legendgroup": "cluster_1",
         "line": {
          "color": "#FF97FF",
          "dash": "solid"
         },
         "marker": {
          "symbol": "circle"
         },
         "mode": "lines",
         "name": "cluster_1",
         "orientation": "v",
         "showlegend": true,
         "type": "scatter",
         "x": [
          "div-100",
          "div-150",
          "div-200",
          "div-250",
          "div-300",
          "div-350",
          "div-400",
          "div-450",
          "div-500",
          "div-20%",
          "div-40%",
          "div-60%",
          "div-80%",
          "div-100%"
         ],
         "xaxis": "x",
         "y": [
          0.4935543278084714,
          0,
          0,
          0,
          0,
          0,
          0,
          0,
          0,
          0.018113088675381972,
          0.021759697256386046,
          0.021759697256386046,
          0.021759697256386046,
          0.021759697256386046
         ],
         "yaxis": "y"
        },
        {
         "hovertemplate": "cluster=cluster_0<br>index=%{x}<br>value=%{y}<extra></extra>",
         "legendgroup": "cluster_0",
         "line": {
          "color": "#FECB52",
          "dash": "solid"
         },
         "marker": {
          "symbol": "circle"
         },
         "mode": "lines",
         "name": "cluster_0",
         "orientation": "v",
         "showlegend": true,
         "type": "scatter",
         "x": [
          "div-100",
          "div-150",
          "div-200",
          "div-250",
          "div-300",
          "div-350",
          "div-400",
          "div-450",
          "div-500",
          "div-20%",
          "div-40%",
          "div-60%",
          "div-80%",
          "div-100%"
         ],
         "xaxis": "x",
         "y": [
          0.3935544138253153,
          0.004098982844997767,
          0.004098982844997767,
          0.0031880977683315104,
          0.0032642526379715875,
          0.0006814568032104118,
          0.0040227703984819785,
          0.004098982844997767,
          0,
          0.0396032163522958,
          0.028088604704270437,
          0.028088604704270437,
          0.02985529322162983,
          0.02985529322162983
         ],
         "yaxis": "y"
        }
       ],
       "layout": {
        "legend": {
         "title": {
          "text": "cluster"
         },
         "tracegroupgap": 0
        },
        "margin": {
         "t": 60
        },
        "template": {
         "data": {
          "bar": [
           {
            "error_x": {
             "color": "#2a3f5f"
            },
            "error_y": {
             "color": "#2a3f5f"
            },
            "marker": {
             "line": {
              "color": "#E5ECF6",
              "width": 0.5
             },
             "pattern": {
              "fillmode": "overlay",
              "size": 10,
              "solidity": 0.2
             }
            },
            "type": "bar"
           }
          ],
          "barpolar": [
           {
            "marker": {
             "line": {
              "color": "#E5ECF6",
              "width": 0.5
             },
             "pattern": {
              "fillmode": "overlay",
              "size": 10,
              "solidity": 0.2
             }
            },
            "type": "barpolar"
           }
          ],
          "carpet": [
           {
            "aaxis": {
             "endlinecolor": "#2a3f5f",
             "gridcolor": "white",
             "linecolor": "white",
             "minorgridcolor": "white",
             "startlinecolor": "#2a3f5f"
            },
            "baxis": {
             "endlinecolor": "#2a3f5f",
             "gridcolor": "white",
             "linecolor": "white",
             "minorgridcolor": "white",
             "startlinecolor": "#2a3f5f"
            },
            "type": "carpet"
           }
          ],
          "choropleth": [
           {
            "colorbar": {
             "outlinewidth": 0,
             "ticks": ""
            },
            "type": "choropleth"
           }
          ],
          "contour": [
           {
            "colorbar": {
             "outlinewidth": 0,
             "ticks": ""
            },
            "colorscale": [
             [
              0,
              "#0d0887"
             ],
             [
              0.1111111111111111,
              "#46039f"
             ],
             [
              0.2222222222222222,
              "#7201a8"
             ],
             [
              0.3333333333333333,
              "#9c179e"
             ],
             [
              0.4444444444444444,
              "#bd3786"
             ],
             [
              0.5555555555555556,
              "#d8576b"
             ],
             [
              0.6666666666666666,
              "#ed7953"
             ],
             [
              0.7777777777777778,
              "#fb9f3a"
             ],
             [
              0.8888888888888888,
              "#fdca26"
             ],
             [
              1,
              "#f0f921"
             ]
            ],
            "type": "contour"
           }
          ],
          "contourcarpet": [
           {
            "colorbar": {
             "outlinewidth": 0,
             "ticks": ""
            },
            "type": "contourcarpet"
           }
          ],
          "heatmap": [
           {
            "colorbar": {
             "outlinewidth": 0,
             "ticks": ""
            },
            "colorscale": [
             [
              0,
              "#0d0887"
             ],
             [
              0.1111111111111111,
              "#46039f"
             ],
             [
              0.2222222222222222,
              "#7201a8"
             ],
             [
              0.3333333333333333,
              "#9c179e"
             ],
             [
              0.4444444444444444,
              "#bd3786"
             ],
             [
              0.5555555555555556,
              "#d8576b"
             ],
             [
              0.6666666666666666,
              "#ed7953"
             ],
             [
              0.7777777777777778,
              "#fb9f3a"
             ],
             [
              0.8888888888888888,
              "#fdca26"
             ],
             [
              1,
              "#f0f921"
             ]
            ],
            "type": "heatmap"
           }
          ],
          "heatmapgl": [
           {
            "colorbar": {
             "outlinewidth": 0,
             "ticks": ""
            },
            "colorscale": [
             [
              0,
              "#0d0887"
             ],
             [
              0.1111111111111111,
              "#46039f"
             ],
             [
              0.2222222222222222,
              "#7201a8"
             ],
             [
              0.3333333333333333,
              "#9c179e"
             ],
             [
              0.4444444444444444,
              "#bd3786"
             ],
             [
              0.5555555555555556,
              "#d8576b"
             ],
             [
              0.6666666666666666,
              "#ed7953"
             ],
             [
              0.7777777777777778,
              "#fb9f3a"
             ],
             [
              0.8888888888888888,
              "#fdca26"
             ],
             [
              1,
              "#f0f921"
             ]
            ],
            "type": "heatmapgl"
           }
          ],
          "histogram": [
           {
            "marker": {
             "pattern": {
              "fillmode": "overlay",
              "size": 10,
              "solidity": 0.2
             }
            },
            "type": "histogram"
           }
          ],
          "histogram2d": [
           {
            "colorbar": {
             "outlinewidth": 0,
             "ticks": ""
            },
            "colorscale": [
             [
              0,
              "#0d0887"
             ],
             [
              0.1111111111111111,
              "#46039f"
             ],
             [
              0.2222222222222222,
              "#7201a8"
             ],
             [
              0.3333333333333333,
              "#9c179e"
             ],
             [
              0.4444444444444444,
              "#bd3786"
             ],
             [
              0.5555555555555556,
              "#d8576b"
             ],
             [
              0.6666666666666666,
              "#ed7953"
             ],
             [
              0.7777777777777778,
              "#fb9f3a"
             ],
             [
              0.8888888888888888,
              "#fdca26"
             ],
             [
              1,
              "#f0f921"
             ]
            ],
            "type": "histogram2d"
           }
          ],
          "histogram2dcontour": [
           {
            "colorbar": {
             "outlinewidth": 0,
             "ticks": ""
            },
            "colorscale": [
             [
              0,
              "#0d0887"
             ],
             [
              0.1111111111111111,
              "#46039f"
             ],
             [
              0.2222222222222222,
              "#7201a8"
             ],
             [
              0.3333333333333333,
              "#9c179e"
             ],
             [
              0.4444444444444444,
              "#bd3786"
             ],
             [
              0.5555555555555556,
              "#d8576b"
             ],
             [
              0.6666666666666666,
              "#ed7953"
             ],
             [
              0.7777777777777778,
              "#fb9f3a"
             ],
             [
              0.8888888888888888,
              "#fdca26"
             ],
             [
              1,
              "#f0f921"
             ]
            ],
            "type": "histogram2dcontour"
           }
          ],
          "mesh3d": [
           {
            "colorbar": {
             "outlinewidth": 0,
             "ticks": ""
            },
            "type": "mesh3d"
           }
          ],
          "parcoords": [
           {
            "line": {
             "colorbar": {
              "outlinewidth": 0,
              "ticks": ""
             }
            },
            "type": "parcoords"
           }
          ],
          "pie": [
           {
            "automargin": true,
            "type": "pie"
           }
          ],
          "scatter": [
           {
            "marker": {
             "colorbar": {
              "outlinewidth": 0,
              "ticks": ""
             }
            },
            "type": "scatter"
           }
          ],
          "scatter3d": [
           {
            "line": {
             "colorbar": {
              "outlinewidth": 0,
              "ticks": ""
             }
            },
            "marker": {
             "colorbar": {
              "outlinewidth": 0,
              "ticks": ""
             }
            },
            "type": "scatter3d"
           }
          ],
          "scattercarpet": [
           {
            "marker": {
             "colorbar": {
              "outlinewidth": 0,
              "ticks": ""
             }
            },
            "type": "scattercarpet"
           }
          ],
          "scattergeo": [
           {
            "marker": {
             "colorbar": {
              "outlinewidth": 0,
              "ticks": ""
             }
            },
            "type": "scattergeo"
           }
          ],
          "scattergl": [
           {
            "marker": {
             "colorbar": {
              "outlinewidth": 0,
              "ticks": ""
             }
            },
            "type": "scattergl"
           }
          ],
          "scattermapbox": [
           {
            "marker": {
             "colorbar": {
              "outlinewidth": 0,
              "ticks": ""
             }
            },
            "type": "scattermapbox"
           }
          ],
          "scatterpolar": [
           {
            "marker": {
             "colorbar": {
              "outlinewidth": 0,
              "ticks": ""
             }
            },
            "type": "scatterpolar"
           }
          ],
          "scatterpolargl": [
           {
            "marker": {
             "colorbar": {
              "outlinewidth": 0,
              "ticks": ""
             }
            },
            "type": "scatterpolargl"
           }
          ],
          "scatterternary": [
           {
            "marker": {
             "colorbar": {
              "outlinewidth": 0,
              "ticks": ""
             }
            },
            "type": "scatterternary"
           }
          ],
          "surface": [
           {
            "colorbar": {
             "outlinewidth": 0,
             "ticks": ""
            },
            "colorscale": [
             [
              0,
              "#0d0887"
             ],
             [
              0.1111111111111111,
              "#46039f"
             ],
             [
              0.2222222222222222,
              "#7201a8"
             ],
             [
              0.3333333333333333,
              "#9c179e"
             ],
             [
              0.4444444444444444,
              "#bd3786"
             ],
             [
              0.5555555555555556,
              "#d8576b"
             ],
             [
              0.6666666666666666,
              "#ed7953"
             ],
             [
              0.7777777777777778,
              "#fb9f3a"
             ],
             [
              0.8888888888888888,
              "#fdca26"
             ],
             [
              1,
              "#f0f921"
             ]
            ],
            "type": "surface"
           }
          ],
          "table": [
           {
            "cells": {
             "fill": {
              "color": "#EBF0F8"
             },
             "line": {
              "color": "white"
             }
            },
            "header": {
             "fill": {
              "color": "#C8D4E3"
             },
             "line": {
              "color": "white"
             }
            },
            "type": "table"
           }
          ]
         },
         "layout": {
          "annotationdefaults": {
           "arrowcolor": "#2a3f5f",
           "arrowhead": 0,
           "arrowwidth": 1
          },
          "autotypenumbers": "strict",
          "coloraxis": {
           "colorbar": {
            "outlinewidth": 0,
            "ticks": ""
           }
          },
          "colorscale": {
           "diverging": [
            [
             0,
             "#8e0152"
            ],
            [
             0.1,
             "#c51b7d"
            ],
            [
             0.2,
             "#de77ae"
            ],
            [
             0.3,
             "#f1b6da"
            ],
            [
             0.4,
             "#fde0ef"
            ],
            [
             0.5,
             "#f7f7f7"
            ],
            [
             0.6,
             "#e6f5d0"
            ],
            [
             0.7,
             "#b8e186"
            ],
            [
             0.8,
             "#7fbc41"
            ],
            [
             0.9,
             "#4d9221"
            ],
            [
             1,
             "#276419"
            ]
           ],
           "sequential": [
            [
             0,
             "#0d0887"
            ],
            [
             0.1111111111111111,
             "#46039f"
            ],
            [
             0.2222222222222222,
             "#7201a8"
            ],
            [
             0.3333333333333333,
             "#9c179e"
            ],
            [
             0.4444444444444444,
             "#bd3786"
            ],
            [
             0.5555555555555556,
             "#d8576b"
            ],
            [
             0.6666666666666666,
             "#ed7953"
            ],
            [
             0.7777777777777778,
             "#fb9f3a"
            ],
            [
             0.8888888888888888,
             "#fdca26"
            ],
            [
             1,
             "#f0f921"
            ]
           ],
           "sequentialminus": [
            [
             0,
             "#0d0887"
            ],
            [
             0.1111111111111111,
             "#46039f"
            ],
            [
             0.2222222222222222,
             "#7201a8"
            ],
            [
             0.3333333333333333,
             "#9c179e"
            ],
            [
             0.4444444444444444,
             "#bd3786"
            ],
            [
             0.5555555555555556,
             "#d8576b"
            ],
            [
             0.6666666666666666,
             "#ed7953"
            ],
            [
             0.7777777777777778,
             "#fb9f3a"
            ],
            [
             0.8888888888888888,
             "#fdca26"
            ],
            [
             1,
             "#f0f921"
            ]
           ]
          },
          "colorway": [
           "#636efa",
           "#EF553B",
           "#00cc96",
           "#ab63fa",
           "#FFA15A",
           "#19d3f3",
           "#FF6692",
           "#B6E880",
           "#FF97FF",
           "#FECB52"
          ],
          "font": {
           "color": "#2a3f5f"
          },
          "geo": {
           "bgcolor": "white",
           "lakecolor": "white",
           "landcolor": "#E5ECF6",
           "showlakes": true,
           "showland": true,
           "subunitcolor": "white"
          },
          "hoverlabel": {
           "align": "left"
          },
          "hovermode": "closest",
          "mapbox": {
           "style": "light"
          },
          "paper_bgcolor": "white",
          "plot_bgcolor": "#E5ECF6",
          "polar": {
           "angularaxis": {
            "gridcolor": "white",
            "linecolor": "white",
            "ticks": ""
           },
           "bgcolor": "#E5ECF6",
           "radialaxis": {
            "gridcolor": "white",
            "linecolor": "white",
            "ticks": ""
           }
          },
          "scene": {
           "xaxis": {
            "backgroundcolor": "#E5ECF6",
            "gridcolor": "white",
            "gridwidth": 2,
            "linecolor": "white",
            "showbackground": true,
            "ticks": "",
            "zerolinecolor": "white"
           },
           "yaxis": {
            "backgroundcolor": "#E5ECF6",
            "gridcolor": "white",
            "gridwidth": 2,
            "linecolor": "white",
            "showbackground": true,
            "ticks": "",
            "zerolinecolor": "white"
           },
           "zaxis": {
            "backgroundcolor": "#E5ECF6",
            "gridcolor": "white",
            "gridwidth": 2,
            "linecolor": "white",
            "showbackground": true,
            "ticks": "",
            "zerolinecolor": "white"
           }
          },
          "shapedefaults": {
           "line": {
            "color": "#2a3f5f"
           }
          },
          "ternary": {
           "aaxis": {
            "gridcolor": "white",
            "linecolor": "white",
            "ticks": ""
           },
           "baxis": {
            "gridcolor": "white",
            "linecolor": "white",
            "ticks": ""
           },
           "bgcolor": "#E5ECF6",
           "caxis": {
            "gridcolor": "white",
            "linecolor": "white",
            "ticks": ""
           }
          },
          "title": {
           "x": 0.05
          },
          "xaxis": {
           "automargin": true,
           "gridcolor": "white",
           "linecolor": "white",
           "ticks": "",
           "title": {
            "standoff": 15
           },
           "zerolinecolor": "white",
           "zerolinewidth": 2
          },
          "yaxis": {
           "automargin": true,
           "gridcolor": "white",
           "linecolor": "white",
           "ticks": "",
           "title": {
            "standoff": 15
           },
           "zerolinecolor": "white",
           "zerolinewidth": 2
          }
         }
        },
        "xaxis": {
         "anchor": "y",
         "domain": [
          0,
          1
         ],
         "title": {
          "text": "index"
         }
        },
        "yaxis": {
         "anchor": "x",
         "domain": [
          0,
          1
         ],
         "title": {
          "text": "value"
         }
        }
       }
      },
      "text/html": [
       "<div>                            <div id=\"120f1c18-2f04-4c12-91d2-cf71fd048206\" class=\"plotly-graph-div\" style=\"height:525px; width:100%;\"></div>            <script type=\"text/javascript\">                require([\"plotly\"], function(Plotly) {                    window.PLOTLYENV=window.PLOTLYENV || {};                                    if (document.getElementById(\"120f1c18-2f04-4c12-91d2-cf71fd048206\")) {                    Plotly.newPlot(                        \"120f1c18-2f04-4c12-91d2-cf71fd048206\",                        [{\"hovertemplate\":\"cluster=cluster_9<br>index=%{x}<br>value=%{y}<extra></extra>\",\"legendgroup\":\"cluster_9\",\"line\":{\"color\":\"#636efa\",\"dash\":\"solid\"},\"marker\":{\"symbol\":\"circle\"},\"mode\":\"lines\",\"name\":\"cluster_9\",\"orientation\":\"v\",\"showlegend\":true,\"x\":[\"div-100\",\"div-150\",\"div-200\",\"div-250\",\"div-300\",\"div-350\",\"div-400\",\"div-450\",\"div-500\",\"div-20%\",\"div-40%\",\"div-60%\",\"div-80%\",\"div-100%\"],\"xaxis\":\"x\",\"y\":[0.12698412698412698,0.12698412698412698,0.13095238095238093,0.37972166998011925,0.001779359430605032,0.003558718861209953,0.005338078291814985,0.0,0.0,0.7916511367871786,0.7916511367871786,0.7841477491342824,0.7841477491342824,0.7916899571455189],\"yaxis\":\"y\",\"type\":\"scatter\"},{\"hovertemplate\":\"cluster=cluster_8<br>index=%{x}<br>value=%{y}<extra></extra>\",\"legendgroup\":\"cluster_8\",\"line\":{\"color\":\"#EF553B\",\"dash\":\"solid\"},\"marker\":{\"symbol\":\"circle\"},\"mode\":\"lines\",\"name\":\"cluster_8\",\"orientation\":\"v\",\"showlegend\":true,\"x\":[\"div-100\",\"div-150\",\"div-200\",\"div-250\",\"div-300\",\"div-350\",\"div-400\",\"div-450\",\"div-500\",\"div-20%\",\"div-40%\",\"div-60%\",\"div-80%\",\"div-100%\"],\"xaxis\":\"x\",\"y\":[0.21287128712871284,0.0,0.0,0.0,0.0,0.0,0.0,0.0,0.0,0.0,0.08056872037914697,0.47651006711409394,0.47651006711409394,0.47651006711409394],\"yaxis\":\"y\",\"type\":\"scatter\"},{\"hovertemplate\":\"cluster=cluster_7<br>index=%{x}<br>value=%{y}<extra></extra>\",\"legendgroup\":\"cluster_7\",\"line\":{\"color\":\"#00cc96\",\"dash\":\"solid\"},\"marker\":{\"symbol\":\"circle\"},\"mode\":\"lines\",\"name\":\"cluster_7\",\"orientation\":\"v\",\"showlegend\":true,\"x\":[\"div-100\",\"div-150\",\"div-200\",\"div-250\",\"div-300\",\"div-350\",\"div-400\",\"div-450\",\"div-500\",\"div-20%\",\"div-40%\",\"div-60%\",\"div-80%\",\"div-100%\"],\"xaxis\":\"x\",\"y\":[0.07615563684735616,0.05650629641588634,0.057493540051679615,0.054533720555017706,0.05422853453841192,0.09874448591788254,0.09874448591788254,0.10010179843909062,0.0,0.00343213728549141,0.02152886115444619,0.41013103852923916,0.41013103852923916,0.41013103852923916],\"yaxis\":\"y\",\"type\":\"scatter\"},{\"hovertemplate\":\"cluster=cluster_6<br>index=%{x}<br>value=%{y}<extra></extra>\",\"legendgroup\":\"cluster_6\",\"line\":{\"color\":\"#ab63fa\",\"dash\":\"solid\"},\"marker\":{\"symbol\":\"circle\"},\"mode\":\"lines\",\"name\":\"cluster_6\",\"orientation\":\"v\",\"showlegend\":true,\"x\":[\"div-100\",\"div-150\",\"div-200\",\"div-250\",\"div-300\",\"div-350\",\"div-400\",\"div-450\",\"div-500\",\"div-20%\",\"div-40%\",\"div-60%\",\"div-80%\",\"div-100%\"],\"xaxis\":\"x\",\"y\":[0.0016675931072818173,0.0,0.0,0.0,0.0,0.0,0.0,0.0,0.0,0.007795100222717122,0.007795100222717122,0.007795100222717122,0.008908685968819552,0.41490545050055616],\"yaxis\":\"y\",\"type\":\"scatter\"},{\"hovertemplate\":\"cluster=cluster_5<br>index=%{x}<br>value=%{y}<extra></extra>\",\"legendgroup\":\"cluster_5\",\"line\":{\"color\":\"#FFA15A\",\"dash\":\"solid\"},\"marker\":{\"symbol\":\"circle\"},\"mode\":\"lines\",\"name\":\"cluster_5\",\"orientation\":\"v\",\"showlegend\":true,\"x\":[\"div-100\",\"div-150\",\"div-200\",\"div-250\",\"div-300\",\"div-350\",\"div-400\",\"div-450\",\"div-500\",\"div-20%\",\"div-40%\",\"div-60%\",\"div-80%\",\"div-100%\"],\"xaxis\":\"x\",\"y\":[0.0,0.0,0.0,0.0,0.0,0.0,0.0,0.0,0.0,0.9440639269406392,0.9440639269406392,0.9440639269406392,0.9440639269406392,0.9440639269406392],\"yaxis\":\"y\",\"type\":\"scatter\"},{\"hovertemplate\":\"cluster=cluster_4<br>index=%{x}<br>value=%{y}<extra></extra>\",\"legendgroup\":\"cluster_4\",\"line\":{\"color\":\"#19d3f3\",\"dash\":\"solid\"},\"marker\":{\"symbol\":\"circle\"},\"mode\":\"lines\",\"name\":\"cluster_4\",\"orientation\":\"v\",\"showlegend\":true,\"x\":[\"div-100\",\"div-150\",\"div-200\",\"div-250\",\"div-300\",\"div-350\",\"div-400\",\"div-450\",\"div-500\",\"div-20%\",\"div-40%\",\"div-60%\",\"div-80%\",\"div-100%\"],\"xaxis\":\"x\",\"y\":[0.3141486810551559,0.3141486810551559,0.02264150943396226,0.0037037037037036535,0.0037037037037036535,0.0,0.0,0.0,0.0,0.3093525179856115,0.4734513274336283,0.47262569832402235,0.47262569832402235,0.47262569832402235],\"yaxis\":\"y\",\"type\":\"scatter\"},{\"hovertemplate\":\"cluster=cluster_3<br>index=%{x}<br>value=%{y}<extra></extra>\",\"legendgroup\":\"cluster_3\",\"line\":{\"color\":\"#FF6692\",\"dash\":\"solid\"},\"marker\":{\"symbol\":\"circle\"},\"mode\":\"lines\",\"name\":\"cluster_3\",\"orientation\":\"v\",\"showlegend\":true,\"x\":[\"div-100\",\"div-150\",\"div-200\",\"div-250\",\"div-300\",\"div-350\",\"div-400\",\"div-450\",\"div-500\",\"div-20%\",\"div-40%\",\"div-60%\",\"div-80%\",\"div-100%\"],\"xaxis\":\"x\",\"y\":[0.6127371273712737,0.5324974411463664,0.5336150595466769,0.44463768115942026,0.3632522553385863,0.36256708918579417,0.36180904522613067,0.29626808834729623,0.0,0.0580916351408155,0.06019841937111148,0.06642004371952248,0.06642004371952248,0.06642004371952248],\"yaxis\":\"y\",\"type\":\"scatter\"},{\"hovertemplate\":\"cluster=cluster_2<br>index=%{x}<br>value=%{y}<extra></extra>\",\"legendgroup\":\"cluster_2\",\"line\":{\"color\":\"#B6E880\",\"dash\":\"solid\"},\"marker\":{\"symbol\":\"circle\"},\"mode\":\"lines\",\"name\":\"cluster_2\",\"orientation\":\"v\",\"showlegend\":true,\"x\":[\"div-100\",\"div-150\",\"div-200\",\"div-250\",\"div-300\",\"div-350\",\"div-400\",\"div-450\",\"div-500\",\"div-20%\",\"div-40%\",\"div-60%\",\"div-80%\",\"div-100%\"],\"xaxis\":\"x\",\"y\":[0.0016010246557797148,0.0,0.0,0.0,0.0,0.0,0.0,0.0,0.0,0.0,0.0,0.014538558786346356,0.016083254493850507,0.026191227516566773],\"yaxis\":\"y\",\"type\":\"scatter\"},{\"hovertemplate\":\"cluster=cluster_1<br>index=%{x}<br>value=%{y}<extra></extra>\",\"legendgroup\":\"cluster_1\",\"line\":{\"color\":\"#FF97FF\",\"dash\":\"solid\"},\"marker\":{\"symbol\":\"circle\"},\"mode\":\"lines\",\"name\":\"cluster_1\",\"orientation\":\"v\",\"showlegend\":true,\"x\":[\"div-100\",\"div-150\",\"div-200\",\"div-250\",\"div-300\",\"div-350\",\"div-400\",\"div-450\",\"div-500\",\"div-20%\",\"div-40%\",\"div-60%\",\"div-80%\",\"div-100%\"],\"xaxis\":\"x\",\"y\":[0.4935543278084714,0.0,0.0,0.0,0.0,0.0,0.0,0.0,0.0,0.018113088675381972,0.021759697256386046,0.021759697256386046,0.021759697256386046,0.021759697256386046],\"yaxis\":\"y\",\"type\":\"scatter\"},{\"hovertemplate\":\"cluster=cluster_0<br>index=%{x}<br>value=%{y}<extra></extra>\",\"legendgroup\":\"cluster_0\",\"line\":{\"color\":\"#FECB52\",\"dash\":\"solid\"},\"marker\":{\"symbol\":\"circle\"},\"mode\":\"lines\",\"name\":\"cluster_0\",\"orientation\":\"v\",\"showlegend\":true,\"x\":[\"div-100\",\"div-150\",\"div-200\",\"div-250\",\"div-300\",\"div-350\",\"div-400\",\"div-450\",\"div-500\",\"div-20%\",\"div-40%\",\"div-60%\",\"div-80%\",\"div-100%\"],\"xaxis\":\"x\",\"y\":[0.3935544138253153,0.004098982844997767,0.004098982844997767,0.0031880977683315104,0.0032642526379715875,0.0006814568032104118,0.0040227703984819785,0.004098982844997767,0.0,0.0396032163522958,0.028088604704270437,0.028088604704270437,0.02985529322162983,0.02985529322162983],\"yaxis\":\"y\",\"type\":\"scatter\"}],                        {\"template\":{\"data\":{\"bar\":[{\"error_x\":{\"color\":\"#2a3f5f\"},\"error_y\":{\"color\":\"#2a3f5f\"},\"marker\":{\"line\":{\"color\":\"#E5ECF6\",\"width\":0.5},\"pattern\":{\"fillmode\":\"overlay\",\"size\":10,\"solidity\":0.2}},\"type\":\"bar\"}],\"barpolar\":[{\"marker\":{\"line\":{\"color\":\"#E5ECF6\",\"width\":0.5},\"pattern\":{\"fillmode\":\"overlay\",\"size\":10,\"solidity\":0.2}},\"type\":\"barpolar\"}],\"carpet\":[{\"aaxis\":{\"endlinecolor\":\"#2a3f5f\",\"gridcolor\":\"white\",\"linecolor\":\"white\",\"minorgridcolor\":\"white\",\"startlinecolor\":\"#2a3f5f\"},\"baxis\":{\"endlinecolor\":\"#2a3f5f\",\"gridcolor\":\"white\",\"linecolor\":\"white\",\"minorgridcolor\":\"white\",\"startlinecolor\":\"#2a3f5f\"},\"type\":\"carpet\"}],\"choropleth\":[{\"colorbar\":{\"outlinewidth\":0,\"ticks\":\"\"},\"type\":\"choropleth\"}],\"contour\":[{\"colorbar\":{\"outlinewidth\":0,\"ticks\":\"\"},\"colorscale\":[[0.0,\"#0d0887\"],[0.1111111111111111,\"#46039f\"],[0.2222222222222222,\"#7201a8\"],[0.3333333333333333,\"#9c179e\"],[0.4444444444444444,\"#bd3786\"],[0.5555555555555556,\"#d8576b\"],[0.6666666666666666,\"#ed7953\"],[0.7777777777777778,\"#fb9f3a\"],[0.8888888888888888,\"#fdca26\"],[1.0,\"#f0f921\"]],\"type\":\"contour\"}],\"contourcarpet\":[{\"colorbar\":{\"outlinewidth\":0,\"ticks\":\"\"},\"type\":\"contourcarpet\"}],\"heatmap\":[{\"colorbar\":{\"outlinewidth\":0,\"ticks\":\"\"},\"colorscale\":[[0.0,\"#0d0887\"],[0.1111111111111111,\"#46039f\"],[0.2222222222222222,\"#7201a8\"],[0.3333333333333333,\"#9c179e\"],[0.4444444444444444,\"#bd3786\"],[0.5555555555555556,\"#d8576b\"],[0.6666666666666666,\"#ed7953\"],[0.7777777777777778,\"#fb9f3a\"],[0.8888888888888888,\"#fdca26\"],[1.0,\"#f0f921\"]],\"type\":\"heatmap\"}],\"heatmapgl\":[{\"colorbar\":{\"outlinewidth\":0,\"ticks\":\"\"},\"colorscale\":[[0.0,\"#0d0887\"],[0.1111111111111111,\"#46039f\"],[0.2222222222222222,\"#7201a8\"],[0.3333333333333333,\"#9c179e\"],[0.4444444444444444,\"#bd3786\"],[0.5555555555555556,\"#d8576b\"],[0.6666666666666666,\"#ed7953\"],[0.7777777777777778,\"#fb9f3a\"],[0.8888888888888888,\"#fdca26\"],[1.0,\"#f0f921\"]],\"type\":\"heatmapgl\"}],\"histogram\":[{\"marker\":{\"pattern\":{\"fillmode\":\"overlay\",\"size\":10,\"solidity\":0.2}},\"type\":\"histogram\"}],\"histogram2d\":[{\"colorbar\":{\"outlinewidth\":0,\"ticks\":\"\"},\"colorscale\":[[0.0,\"#0d0887\"],[0.1111111111111111,\"#46039f\"],[0.2222222222222222,\"#7201a8\"],[0.3333333333333333,\"#9c179e\"],[0.4444444444444444,\"#bd3786\"],[0.5555555555555556,\"#d8576b\"],[0.6666666666666666,\"#ed7953\"],[0.7777777777777778,\"#fb9f3a\"],[0.8888888888888888,\"#fdca26\"],[1.0,\"#f0f921\"]],\"type\":\"histogram2d\"}],\"histogram2dcontour\":[{\"colorbar\":{\"outlinewidth\":0,\"ticks\":\"\"},\"colorscale\":[[0.0,\"#0d0887\"],[0.1111111111111111,\"#46039f\"],[0.2222222222222222,\"#7201a8\"],[0.3333333333333333,\"#9c179e\"],[0.4444444444444444,\"#bd3786\"],[0.5555555555555556,\"#d8576b\"],[0.6666666666666666,\"#ed7953\"],[0.7777777777777778,\"#fb9f3a\"],[0.8888888888888888,\"#fdca26\"],[1.0,\"#f0f921\"]],\"type\":\"histogram2dcontour\"}],\"mesh3d\":[{\"colorbar\":{\"outlinewidth\":0,\"ticks\":\"\"},\"type\":\"mesh3d\"}],\"parcoords\":[{\"line\":{\"colorbar\":{\"outlinewidth\":0,\"ticks\":\"\"}},\"type\":\"parcoords\"}],\"pie\":[{\"automargin\":true,\"type\":\"pie\"}],\"scatter\":[{\"marker\":{\"colorbar\":{\"outlinewidth\":0,\"ticks\":\"\"}},\"type\":\"scatter\"}],\"scatter3d\":[{\"line\":{\"colorbar\":{\"outlinewidth\":0,\"ticks\":\"\"}},\"marker\":{\"colorbar\":{\"outlinewidth\":0,\"ticks\":\"\"}},\"type\":\"scatter3d\"}],\"scattercarpet\":[{\"marker\":{\"colorbar\":{\"outlinewidth\":0,\"ticks\":\"\"}},\"type\":\"scattercarpet\"}],\"scattergeo\":[{\"marker\":{\"colorbar\":{\"outlinewidth\":0,\"ticks\":\"\"}},\"type\":\"scattergeo\"}],\"scattergl\":[{\"marker\":{\"colorbar\":{\"outlinewidth\":0,\"ticks\":\"\"}},\"type\":\"scattergl\"}],\"scattermapbox\":[{\"marker\":{\"colorbar\":{\"outlinewidth\":0,\"ticks\":\"\"}},\"type\":\"scattermapbox\"}],\"scatterpolar\":[{\"marker\":{\"colorbar\":{\"outlinewidth\":0,\"ticks\":\"\"}},\"type\":\"scatterpolar\"}],\"scatterpolargl\":[{\"marker\":{\"colorbar\":{\"outlinewidth\":0,\"ticks\":\"\"}},\"type\":\"scatterpolargl\"}],\"scatterternary\":[{\"marker\":{\"colorbar\":{\"outlinewidth\":0,\"ticks\":\"\"}},\"type\":\"scatterternary\"}],\"surface\":[{\"colorbar\":{\"outlinewidth\":0,\"ticks\":\"\"},\"colorscale\":[[0.0,\"#0d0887\"],[0.1111111111111111,\"#46039f\"],[0.2222222222222222,\"#7201a8\"],[0.3333333333333333,\"#9c179e\"],[0.4444444444444444,\"#bd3786\"],[0.5555555555555556,\"#d8576b\"],[0.6666666666666666,\"#ed7953\"],[0.7777777777777778,\"#fb9f3a\"],[0.8888888888888888,\"#fdca26\"],[1.0,\"#f0f921\"]],\"type\":\"surface\"}],\"table\":[{\"cells\":{\"fill\":{\"color\":\"#EBF0F8\"},\"line\":{\"color\":\"white\"}},\"header\":{\"fill\":{\"color\":\"#C8D4E3\"},\"line\":{\"color\":\"white\"}},\"type\":\"table\"}]},\"layout\":{\"annotationdefaults\":{\"arrowcolor\":\"#2a3f5f\",\"arrowhead\":0,\"arrowwidth\":1},\"autotypenumbers\":\"strict\",\"coloraxis\":{\"colorbar\":{\"outlinewidth\":0,\"ticks\":\"\"}},\"colorscale\":{\"diverging\":[[0,\"#8e0152\"],[0.1,\"#c51b7d\"],[0.2,\"#de77ae\"],[0.3,\"#f1b6da\"],[0.4,\"#fde0ef\"],[0.5,\"#f7f7f7\"],[0.6,\"#e6f5d0\"],[0.7,\"#b8e186\"],[0.8,\"#7fbc41\"],[0.9,\"#4d9221\"],[1,\"#276419\"]],\"sequential\":[[0.0,\"#0d0887\"],[0.1111111111111111,\"#46039f\"],[0.2222222222222222,\"#7201a8\"],[0.3333333333333333,\"#9c179e\"],[0.4444444444444444,\"#bd3786\"],[0.5555555555555556,\"#d8576b\"],[0.6666666666666666,\"#ed7953\"],[0.7777777777777778,\"#fb9f3a\"],[0.8888888888888888,\"#fdca26\"],[1.0,\"#f0f921\"]],\"sequentialminus\":[[0.0,\"#0d0887\"],[0.1111111111111111,\"#46039f\"],[0.2222222222222222,\"#7201a8\"],[0.3333333333333333,\"#9c179e\"],[0.4444444444444444,\"#bd3786\"],[0.5555555555555556,\"#d8576b\"],[0.6666666666666666,\"#ed7953\"],[0.7777777777777778,\"#fb9f3a\"],[0.8888888888888888,\"#fdca26\"],[1.0,\"#f0f921\"]]},\"colorway\":[\"#636efa\",\"#EF553B\",\"#00cc96\",\"#ab63fa\",\"#FFA15A\",\"#19d3f3\",\"#FF6692\",\"#B6E880\",\"#FF97FF\",\"#FECB52\"],\"font\":{\"color\":\"#2a3f5f\"},\"geo\":{\"bgcolor\":\"white\",\"lakecolor\":\"white\",\"landcolor\":\"#E5ECF6\",\"showlakes\":true,\"showland\":true,\"subunitcolor\":\"white\"},\"hoverlabel\":{\"align\":\"left\"},\"hovermode\":\"closest\",\"mapbox\":{\"style\":\"light\"},\"paper_bgcolor\":\"white\",\"plot_bgcolor\":\"#E5ECF6\",\"polar\":{\"angularaxis\":{\"gridcolor\":\"white\",\"linecolor\":\"white\",\"ticks\":\"\"},\"bgcolor\":\"#E5ECF6\",\"radialaxis\":{\"gridcolor\":\"white\",\"linecolor\":\"white\",\"ticks\":\"\"}},\"scene\":{\"xaxis\":{\"backgroundcolor\":\"#E5ECF6\",\"gridcolor\":\"white\",\"gridwidth\":2,\"linecolor\":\"white\",\"showbackground\":true,\"ticks\":\"\",\"zerolinecolor\":\"white\"},\"yaxis\":{\"backgroundcolor\":\"#E5ECF6\",\"gridcolor\":\"white\",\"gridwidth\":2,\"linecolor\":\"white\",\"showbackground\":true,\"ticks\":\"\",\"zerolinecolor\":\"white\"},\"zaxis\":{\"backgroundcolor\":\"#E5ECF6\",\"gridcolor\":\"white\",\"gridwidth\":2,\"linecolor\":\"white\",\"showbackground\":true,\"ticks\":\"\",\"zerolinecolor\":\"white\"}},\"shapedefaults\":{\"line\":{\"color\":\"#2a3f5f\"}},\"ternary\":{\"aaxis\":{\"gridcolor\":\"white\",\"linecolor\":\"white\",\"ticks\":\"\"},\"baxis\":{\"gridcolor\":\"white\",\"linecolor\":\"white\",\"ticks\":\"\"},\"bgcolor\":\"#E5ECF6\",\"caxis\":{\"gridcolor\":\"white\",\"linecolor\":\"white\",\"ticks\":\"\"}},\"title\":{\"x\":0.05},\"xaxis\":{\"automargin\":true,\"gridcolor\":\"white\",\"linecolor\":\"white\",\"ticks\":\"\",\"title\":{\"standoff\":15},\"zerolinecolor\":\"white\",\"zerolinewidth\":2},\"yaxis\":{\"automargin\":true,\"gridcolor\":\"white\",\"linecolor\":\"white\",\"ticks\":\"\",\"title\":{\"standoff\":15},\"zerolinecolor\":\"white\",\"zerolinewidth\":2}}},\"xaxis\":{\"anchor\":\"y\",\"domain\":[0.0,1.0],\"title\":{\"text\":\"index\"}},\"yaxis\":{\"anchor\":\"x\",\"domain\":[0.0,1.0],\"title\":{\"text\":\"value\"}},\"legend\":{\"title\":{\"text\":\"cluster\"},\"tracegroupgap\":0},\"margin\":{\"t\":60}},                        {\"responsive\": true}                    ).then(function(){\n",
       "                            \n",
       "var gd = document.getElementById('120f1c18-2f04-4c12-91d2-cf71fd048206');\n",
       "var x = new MutationObserver(function (mutations, observer) {{\n",
       "        var display = window.getComputedStyle(gd).display;\n",
       "        if (!display || display === 'none') {{\n",
       "            console.log([gd, 'removed!']);\n",
       "            Plotly.purge(gd);\n",
       "            observer.disconnect();\n",
       "        }}\n",
       "}});\n",
       "\n",
       "// Listen for the removal of the full notebook cells\n",
       "var notebookContainer = gd.closest('#notebook-container');\n",
       "if (notebookContainer) {{\n",
       "    x.observe(notebookContainer, {childList: true});\n",
       "}}\n",
       "\n",
       "// Listen for the clearing of the current output cell\n",
       "var outputEl = gd.closest('.output');\n",
       "if (outputEl) {{\n",
       "    x.observe(outputEl, {childList: true});\n",
       "}}\n",
       "\n",
       "                        })                };                });            </script>        </div>"
      ]
     },
     "metadata": {},
     "output_type": "display_data"
    }
   ],
   "source": [
    "fig = px.line(cons_div)\n",
    "fig.show()"
   ]
  }
 ],
 "metadata": {
  "kernelspec": {
   "display_name": "TE_Aalb",
   "language": "python",
   "name": "te_aalb"
  },
  "language_info": {
   "codemirror_mode": {
    "name": "ipython",
    "version": 3
   },
   "file_extension": ".py",
   "mimetype": "text/x-python",
   "name": "python",
   "nbconvert_exporter": "python",
   "pygments_lexer": "ipython3",
   "version": "3.10.2"
  }
 },
 "nbformat": 4,
 "nbformat_minor": 5
}
